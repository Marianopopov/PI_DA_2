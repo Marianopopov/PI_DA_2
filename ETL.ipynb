{
 "cells": [
  {
   "cell_type": "code",
   "execution_count": 249,
   "metadata": {},
   "outputs": [],
   "source": [
    "\n",
    "import pandas as pd \n",
    "import numpy as np\n",
    "import re\n",
    "from summarytools import dfSummary\n"
   ]
  },
  {
   "cell_type": "markdown",
   "metadata": {},
   "source": [
    "## ETL Extracción, transformación y carga"
   ]
  },
  {
   "cell_type": "markdown",
   "metadata": {},
   "source": [
    "# `homicidios - hechos`"
   ]
  },
  {
   "cell_type": "code",
   "execution_count": 250,
   "metadata": {},
   "outputs": [],
   "source": [
    "homicidios_hechos = pd.read_excel(\"Datasets/raw/homicidios.xlsx\", sheet_name=\"HECHOS\")\n",
    "homicidios_victimas = pd.read_excel(\"Datasets/raw/homicidios.xlsx\", sheet_name=\"VICTIMAS\")\n",
    "comunas= pd.read_excel(\"Datasets/extra/comunas.xlsx\")\n"
   ]
  },
  {
   "cell_type": "code",
   "execution_count": 251,
   "metadata": {},
   "outputs": [
    {
     "data": {
      "text/html": [
       "<div>\n",
       "<style scoped>\n",
       "    .dataframe tbody tr th:only-of-type {\n",
       "        vertical-align: middle;\n",
       "    }\n",
       "\n",
       "    .dataframe tbody tr th {\n",
       "        vertical-align: top;\n",
       "    }\n",
       "\n",
       "    .dataframe thead th {\n",
       "        text-align: right;\n",
       "    }\n",
       "</style>\n",
       "<table border=\"1\" class=\"dataframe\">\n",
       "  <thead>\n",
       "    <tr style=\"text-align: right;\">\n",
       "      <th></th>\n",
       "      <th>ID</th>\n",
       "      <th>N_VICTIMAS</th>\n",
       "      <th>FECHA</th>\n",
       "      <th>AAAA</th>\n",
       "      <th>MM</th>\n",
       "      <th>DD</th>\n",
       "      <th>HORA</th>\n",
       "      <th>HH</th>\n",
       "      <th>LUGAR_DEL_HECHO</th>\n",
       "      <th>TIPO_DE_CALLE</th>\n",
       "      <th>...</th>\n",
       "      <th>Altura</th>\n",
       "      <th>Cruce</th>\n",
       "      <th>Dirección Normalizada</th>\n",
       "      <th>COMUNA</th>\n",
       "      <th>XY (CABA)</th>\n",
       "      <th>pos x</th>\n",
       "      <th>pos y</th>\n",
       "      <th>PARTICIPANTES</th>\n",
       "      <th>VICTIMA</th>\n",
       "      <th>ACUSADO</th>\n",
       "    </tr>\n",
       "  </thead>\n",
       "  <tbody>\n",
       "    <tr>\n",
       "      <th>0</th>\n",
       "      <td>2016-0001</td>\n",
       "      <td>1</td>\n",
       "      <td>2016-01-01</td>\n",
       "      <td>2016</td>\n",
       "      <td>1</td>\n",
       "      <td>1</td>\n",
       "      <td>04:00:00</td>\n",
       "      <td>4</td>\n",
       "      <td>AV PIEDRA BUENA Y AV FERNANDEZ DE LA CRUZ</td>\n",
       "      <td>AVENIDA</td>\n",
       "      <td>...</td>\n",
       "      <td>NaN</td>\n",
       "      <td>FERNANDEZ DE LA CRUZ, F., GRAL. AV.</td>\n",
       "      <td>PIEDRA BUENA AV. y FERNANDEZ DE LA CRUZ, F., G...</td>\n",
       "      <td>8</td>\n",
       "      <td>Point (98896.78238426 93532.43437792)</td>\n",
       "      <td>-58.47533969</td>\n",
       "      <td>-34.68757022</td>\n",
       "      <td>MOTO-AUTO</td>\n",
       "      <td>MOTO</td>\n",
       "      <td>AUTO</td>\n",
       "    </tr>\n",
       "    <tr>\n",
       "      <th>1</th>\n",
       "      <td>2016-0002</td>\n",
       "      <td>1</td>\n",
       "      <td>2016-01-02</td>\n",
       "      <td>2016</td>\n",
       "      <td>1</td>\n",
       "      <td>2</td>\n",
       "      <td>01:15:00</td>\n",
       "      <td>1</td>\n",
       "      <td>AV GRAL PAZ  Y AV DE LOS CORRALES</td>\n",
       "      <td>GRAL PAZ</td>\n",
       "      <td>...</td>\n",
       "      <td>NaN</td>\n",
       "      <td>DE LOS CORRALES AV.</td>\n",
       "      <td>PAZ, GRAL. AV. y DE LOS CORRALES AV.</td>\n",
       "      <td>9</td>\n",
       "      <td>Point (95832.05571093 95505.41641999)</td>\n",
       "      <td>-58.50877521</td>\n",
       "      <td>-34.66977709</td>\n",
       "      <td>AUTO-PASAJEROS</td>\n",
       "      <td>AUTO</td>\n",
       "      <td>PASAJEROS</td>\n",
       "    </tr>\n",
       "    <tr>\n",
       "      <th>2</th>\n",
       "      <td>2016-0003</td>\n",
       "      <td>1</td>\n",
       "      <td>2016-01-03</td>\n",
       "      <td>2016</td>\n",
       "      <td>1</td>\n",
       "      <td>3</td>\n",
       "      <td>07:00:00</td>\n",
       "      <td>7</td>\n",
       "      <td>AV ENTRE RIOS 2034</td>\n",
       "      <td>AVENIDA</td>\n",
       "      <td>...</td>\n",
       "      <td>2034.0</td>\n",
       "      <td>NaN</td>\n",
       "      <td>ENTRE RIOS AV. 2034</td>\n",
       "      <td>1</td>\n",
       "      <td>Point (106684.29090040 99706.57687843)</td>\n",
       "      <td>-58.39040293</td>\n",
       "      <td>-34.63189362</td>\n",
       "      <td>MOTO-AUTO</td>\n",
       "      <td>MOTO</td>\n",
       "      <td>AUTO</td>\n",
       "    </tr>\n",
       "  </tbody>\n",
       "</table>\n",
       "<p>3 rows × 21 columns</p>\n",
       "</div>"
      ],
      "text/plain": [
       "          ID  N_VICTIMAS      FECHA  AAAA  MM  DD      HORA HH  \\\n",
       "0  2016-0001           1 2016-01-01  2016   1   1  04:00:00  4   \n",
       "1  2016-0002           1 2016-01-02  2016   1   2  01:15:00  1   \n",
       "2  2016-0003           1 2016-01-03  2016   1   3  07:00:00  7   \n",
       "\n",
       "                             LUGAR_DEL_HECHO TIPO_DE_CALLE  ...  Altura  \\\n",
       "0  AV PIEDRA BUENA Y AV FERNANDEZ DE LA CRUZ       AVENIDA  ...     NaN   \n",
       "1          AV GRAL PAZ  Y AV DE LOS CORRALES      GRAL PAZ  ...     NaN   \n",
       "2                         AV ENTRE RIOS 2034       AVENIDA  ...  2034.0   \n",
       "\n",
       "                                 Cruce  \\\n",
       "0  FERNANDEZ DE LA CRUZ, F., GRAL. AV.   \n",
       "1                  DE LOS CORRALES AV.   \n",
       "2                                  NaN   \n",
       "\n",
       "                               Dirección Normalizada COMUNA  \\\n",
       "0  PIEDRA BUENA AV. y FERNANDEZ DE LA CRUZ, F., G...      8   \n",
       "1               PAZ, GRAL. AV. y DE LOS CORRALES AV.      9   \n",
       "2                                ENTRE RIOS AV. 2034      1   \n",
       "\n",
       "                                XY (CABA)         pos x         pos y  \\\n",
       "0   Point (98896.78238426 93532.43437792)  -58.47533969  -34.68757022   \n",
       "1   Point (95832.05571093 95505.41641999)  -58.50877521  -34.66977709   \n",
       "2  Point (106684.29090040 99706.57687843)  -58.39040293  -34.63189362   \n",
       "\n",
       "    PARTICIPANTES VICTIMA    ACUSADO  \n",
       "0       MOTO-AUTO    MOTO       AUTO  \n",
       "1  AUTO-PASAJEROS    AUTO  PASAJEROS  \n",
       "2       MOTO-AUTO    MOTO       AUTO  \n",
       "\n",
       "[3 rows x 21 columns]"
      ]
     },
     "execution_count": 251,
     "metadata": {},
     "output_type": "execute_result"
    }
   ],
   "source": [
    "homicidios_hechos.head(3)"
   ]
  },
  {
   "cell_type": "code",
   "execution_count": 252,
   "metadata": {},
   "outputs": [
    {
     "name": "stdout",
     "output_type": "stream",
     "text": [
      "<class 'pandas.core.frame.DataFrame'>\n",
      "RangeIndex: 696 entries, 0 to 695\n",
      "Data columns (total 21 columns):\n",
      " #   Column                 Non-Null Count  Dtype         \n",
      "---  ------                 --------------  -----         \n",
      " 0   ID                     696 non-null    object        \n",
      " 1   N_VICTIMAS             696 non-null    int64         \n",
      " 2   FECHA                  696 non-null    datetime64[ns]\n",
      " 3   AAAA                   696 non-null    int64         \n",
      " 4   MM                     696 non-null    int64         \n",
      " 5   DD                     696 non-null    int64         \n",
      " 6   HORA                   696 non-null    object        \n",
      " 7   HH                     696 non-null    object        \n",
      " 8   LUGAR_DEL_HECHO        696 non-null    object        \n",
      " 9   TIPO_DE_CALLE          696 non-null    object        \n",
      " 10  Calle                  695 non-null    object        \n",
      " 11  Altura                 129 non-null    float64       \n",
      " 12  Cruce                  525 non-null    object        \n",
      " 13  Dirección Normalizada  688 non-null    object        \n",
      " 14  COMUNA                 696 non-null    int64         \n",
      " 15  XY (CABA)              696 non-null    object        \n",
      " 16  pos x                  696 non-null    object        \n",
      " 17  pos y                  696 non-null    object        \n",
      " 18  PARTICIPANTES          696 non-null    object        \n",
      " 19  VICTIMA                696 non-null    object        \n",
      " 20  ACUSADO                696 non-null    object        \n",
      "dtypes: datetime64[ns](1), float64(1), int64(5), object(14)\n",
      "memory usage: 114.3+ KB\n"
     ]
    }
   ],
   "source": [
    "homicidios_hechos.info()"
   ]
  },
  {
   "cell_type": "markdown",
   "metadata": {},
   "source": [
    "Examen de nulos y duplicados"
   ]
  },
  {
   "cell_type": "code",
   "execution_count": 253,
   "metadata": {},
   "outputs": [
    {
     "data": {
      "text/plain": [
       "ID                         0\n",
       "N_VICTIMAS                 0\n",
       "FECHA                      0\n",
       "AAAA                       0\n",
       "MM                         0\n",
       "DD                         0\n",
       "HORA                       0\n",
       "HH                         0\n",
       "LUGAR_DEL_HECHO            0\n",
       "TIPO_DE_CALLE              0\n",
       "Calle                      1\n",
       "Altura                   567\n",
       "Cruce                    171\n",
       "Dirección Normalizada      8\n",
       "COMUNA                     0\n",
       "XY (CABA)                  0\n",
       "pos x                      0\n",
       "pos y                      0\n",
       "PARTICIPANTES              0\n",
       "VICTIMA                    0\n",
       "ACUSADO                    0\n",
       "dtype: int64"
      ]
     },
     "execution_count": 253,
     "metadata": {},
     "output_type": "execute_result"
    }
   ],
   "source": [
    "homicidios_hechos.isnull().sum()"
   ]
  },
  {
   "cell_type": "markdown",
   "metadata": {},
   "source": [
    "- Se analizan las columnas con datos nulos"
   ]
  },
  {
   "cell_type": "code",
   "execution_count": 254,
   "metadata": {},
   "outputs": [
    {
     "data": {
      "text/html": [
       "<div>\n",
       "<style scoped>\n",
       "    .dataframe tbody tr th:only-of-type {\n",
       "        vertical-align: middle;\n",
       "    }\n",
       "\n",
       "    .dataframe tbody tr th {\n",
       "        vertical-align: top;\n",
       "    }\n",
       "\n",
       "    .dataframe thead th {\n",
       "        text-align: right;\n",
       "    }\n",
       "</style>\n",
       "<table border=\"1\" class=\"dataframe\">\n",
       "  <thead>\n",
       "    <tr style=\"text-align: right;\">\n",
       "      <th></th>\n",
       "      <th>Altura</th>\n",
       "      <th>Calle</th>\n",
       "      <th>Dirección Normalizada</th>\n",
       "      <th>Cruce</th>\n",
       "    </tr>\n",
       "  </thead>\n",
       "  <tbody>\n",
       "    <tr>\n",
       "      <th>0</th>\n",
       "      <td>NaN</td>\n",
       "      <td>PIEDRA BUENA AV.</td>\n",
       "      <td>PIEDRA BUENA AV. y FERNANDEZ DE LA CRUZ, F., G...</td>\n",
       "      <td>FERNANDEZ DE LA CRUZ, F., GRAL. AV.</td>\n",
       "    </tr>\n",
       "    <tr>\n",
       "      <th>1</th>\n",
       "      <td>NaN</td>\n",
       "      <td>PAZ, GRAL. AV.</td>\n",
       "      <td>PAZ, GRAL. AV. y DE LOS CORRALES AV.</td>\n",
       "      <td>DE LOS CORRALES AV.</td>\n",
       "    </tr>\n",
       "    <tr>\n",
       "      <th>2</th>\n",
       "      <td>2034.0</td>\n",
       "      <td>ENTRE RIOS AV.</td>\n",
       "      <td>ENTRE RIOS AV. 2034</td>\n",
       "      <td>NaN</td>\n",
       "    </tr>\n",
       "    <tr>\n",
       "      <th>3</th>\n",
       "      <td>NaN</td>\n",
       "      <td>LARRAZABAL AV.</td>\n",
       "      <td>LARRAZABAL AV. y VILLEGAS, CONRADO, GRAL.</td>\n",
       "      <td>VILLEGAS, CONRADO, GRAL.</td>\n",
       "    </tr>\n",
       "    <tr>\n",
       "      <th>4</th>\n",
       "      <td>NaN</td>\n",
       "      <td>SAN JUAN AV.</td>\n",
       "      <td>SAN JUAN AV. y SAENZ PEÃ‘A, LUIS, PRES.</td>\n",
       "      <td>SAENZ PE?A, LUIS, PRES.</td>\n",
       "    </tr>\n",
       "  </tbody>\n",
       "</table>\n",
       "</div>"
      ],
      "text/plain": [
       "   Altura             Calle  \\\n",
       "0     NaN  PIEDRA BUENA AV.   \n",
       "1     NaN    PAZ, GRAL. AV.   \n",
       "2  2034.0    ENTRE RIOS AV.   \n",
       "3     NaN    LARRAZABAL AV.   \n",
       "4     NaN      SAN JUAN AV.   \n",
       "\n",
       "                               Dirección Normalizada  \\\n",
       "0  PIEDRA BUENA AV. y FERNANDEZ DE LA CRUZ, F., G...   \n",
       "1               PAZ, GRAL. AV. y DE LOS CORRALES AV.   \n",
       "2                                ENTRE RIOS AV. 2034   \n",
       "3          LARRAZABAL AV. y VILLEGAS, CONRADO, GRAL.   \n",
       "4            SAN JUAN AV. y SAENZ PEÃ‘A, LUIS, PRES.   \n",
       "\n",
       "                                 Cruce  \n",
       "0  FERNANDEZ DE LA CRUZ, F., GRAL. AV.  \n",
       "1                  DE LOS CORRALES AV.  \n",
       "2                                  NaN  \n",
       "3             VILLEGAS, CONRADO, GRAL.  \n",
       "4              SAENZ PE?A, LUIS, PRES.  "
      ]
     },
     "execution_count": 254,
     "metadata": {},
     "output_type": "execute_result"
    }
   ],
   "source": [
    "homicidios_hechos[[\"Altura\", \"Calle\", \"Dirección Normalizada\", \"Cruce\"]].head(5)"
   ]
  },
  {
   "cell_type": "code",
   "execution_count": 255,
   "metadata": {},
   "outputs": [
    {
     "data": {
      "text/html": [
       "<div>\n",
       "<style scoped>\n",
       "    .dataframe tbody tr th:only-of-type {\n",
       "        vertical-align: middle;\n",
       "    }\n",
       "\n",
       "    .dataframe tbody tr th {\n",
       "        vertical-align: top;\n",
       "    }\n",
       "\n",
       "    .dataframe thead th {\n",
       "        text-align: right;\n",
       "    }\n",
       "</style>\n",
       "<table border=\"1\" class=\"dataframe\">\n",
       "  <thead>\n",
       "    <tr style=\"text-align: right;\">\n",
       "      <th></th>\n",
       "      <th>Dirección Normalizada</th>\n",
       "      <th>Cruce</th>\n",
       "      <th>Altura</th>\n",
       "      <th>Calle</th>\n",
       "    </tr>\n",
       "  </thead>\n",
       "  <tbody>\n",
       "    <tr>\n",
       "      <th>38</th>\n",
       "      <td>NaN</td>\n",
       "      <td>NaN</td>\n",
       "      <td>NaN</td>\n",
       "      <td>LUGONES, LEOPOLDO AV.</td>\n",
       "    </tr>\n",
       "    <tr>\n",
       "      <th>106</th>\n",
       "      <td>NaN</td>\n",
       "      <td>NaN</td>\n",
       "      <td>NaN</td>\n",
       "      <td>AUTOPISTA BUENOS AIRES - LA PLATA</td>\n",
       "    </tr>\n",
       "    <tr>\n",
       "      <th>119</th>\n",
       "      <td>NaN</td>\n",
       "      <td>NaN</td>\n",
       "      <td>NaN</td>\n",
       "      <td>NaN</td>\n",
       "    </tr>\n",
       "    <tr>\n",
       "      <th>180</th>\n",
       "      <td>NaN</td>\n",
       "      <td>NaN</td>\n",
       "      <td>NaN</td>\n",
       "      <td>AUTOPISTA PERITO MORENO</td>\n",
       "    </tr>\n",
       "    <tr>\n",
       "      <th>181</th>\n",
       "      <td>NaN</td>\n",
       "      <td>NaN</td>\n",
       "      <td>NaN</td>\n",
       "      <td>AUTOPISTA DELLEPIANE LUIS TTE. GRAL.</td>\n",
       "    </tr>\n",
       "    <tr>\n",
       "      <th>313</th>\n",
       "      <td>NaN</td>\n",
       "      <td>NaN</td>\n",
       "      <td>NaN</td>\n",
       "      <td>LUGONES, LEOPOLDO AV.</td>\n",
       "    </tr>\n",
       "    <tr>\n",
       "      <th>546</th>\n",
       "      <td>NaN</td>\n",
       "      <td>NaN</td>\n",
       "      <td>NaN</td>\n",
       "      <td>LUGONES, LEOPOLDO AV.</td>\n",
       "    </tr>\n",
       "    <tr>\n",
       "      <th>621</th>\n",
       "      <td>NaN</td>\n",
       "      <td>NaN</td>\n",
       "      <td>NaN</td>\n",
       "      <td>AUTOPISTA BUENOS AIRES - LA PLATA</td>\n",
       "    </tr>\n",
       "  </tbody>\n",
       "</table>\n",
       "</div>"
      ],
      "text/plain": [
       "    Dirección Normalizada Cruce  Altura                                 Calle\n",
       "38                    NaN   NaN     NaN                 LUGONES, LEOPOLDO AV.\n",
       "106                   NaN   NaN     NaN     AUTOPISTA BUENOS AIRES - LA PLATA\n",
       "119                   NaN   NaN     NaN                                   NaN\n",
       "180                   NaN   NaN     NaN               AUTOPISTA PERITO MORENO\n",
       "181                   NaN   NaN     NaN  AUTOPISTA DELLEPIANE LUIS TTE. GRAL.\n",
       "313                   NaN   NaN     NaN                 LUGONES, LEOPOLDO AV.\n",
       "546                   NaN   NaN     NaN                 LUGONES, LEOPOLDO AV.\n",
       "621                   NaN   NaN     NaN     AUTOPISTA BUENOS AIRES - LA PLATA"
      ]
     },
     "execution_count": 255,
     "metadata": {},
     "output_type": "execute_result"
    }
   ],
   "source": [
    "homicidios_hechos[homicidios_hechos[\"Dirección Normalizada\"].isnull()][[\"Dirección Normalizada\", \"Cruce\",\"Altura\", \"Calle\"]]"
   ]
  },
  {
   "cell_type": "markdown",
   "metadata": {},
   "source": [
    "Tras examinar datos nulos, que representan el 5,1% del dataset:\n",
    "- **`Calle`** tiene un solo dato nulo.\n",
    "- **`Dirección Normalizada`** 8 nulos. \n",
    "- **`Cruce`** tiene 171 nulos.\n",
    "- **`Altura`** tiene 567 nulos.\n",
    "\n",
    "Analizando los datos de la `Altura` se procede a eliminarla debido a la gran cantidad de faltantes y no existiendo manera de poder rellenar las colummas; ya que altura se refiere a la numeración de la calle donde se produce el siniestro y la mayoria de los casos se producen en cruces o esquinas.\n",
    "La columna `Cruce` solo va a tener dato cuando el hecho se porduce en un cruce de calles, por lo que se conserva de esta manera.\n",
    "La columna `Dirección Normalizada` no tiene posibilidad de completarse con las columnas del dataset; pero contiene solo 1,1% de nulos por lo se conserva de esta manera."
   ]
  },
  {
   "cell_type": "markdown",
   "metadata": {},
   "source": [
    "Se elimina la columna \"Altura\""
   ]
  },
  {
   "cell_type": "code",
   "execution_count": 256,
   "metadata": {},
   "outputs": [
    {
     "data": {
      "text/plain": [
       "Index(['ID', 'N_VICTIMAS', 'FECHA', 'AAAA', 'MM', 'DD', 'HORA', 'HH',\n",
       "       'LUGAR_DEL_HECHO', 'TIPO_DE_CALLE', 'Calle', 'Cruce',\n",
       "       'Dirección Normalizada', 'COMUNA', 'XY (CABA)', 'pos x', 'pos y',\n",
       "       'PARTICIPANTES', 'VICTIMA', 'ACUSADO'],\n",
       "      dtype='object')"
      ]
     },
     "execution_count": 256,
     "metadata": {},
     "output_type": "execute_result"
    }
   ],
   "source": [
    "homicidios_hechos= homicidios_hechos.drop(\"Altura\", axis=1)\n",
    "homicidios_hechos.columns"
   ]
  },
  {
   "cell_type": "markdown",
   "metadata": {},
   "source": [
    "Duplicados"
   ]
  },
  {
   "cell_type": "code",
   "execution_count": 257,
   "metadata": {},
   "outputs": [
    {
     "data": {
      "text/plain": [
       "0"
      ]
     },
     "execution_count": 257,
     "metadata": {},
     "output_type": "execute_result"
    }
   ],
   "source": [
    "homicidios_hechos.duplicated().sum()"
   ]
  },
  {
   "cell_type": "markdown",
   "metadata": {},
   "source": [
    "Se transforman los datos de la columna 'HH' a tipo numérico."
   ]
  },
  {
   "cell_type": "code",
   "execution_count": 258,
   "metadata": {},
   "outputs": [
    {
     "data": {
      "text/plain": [
       "array([4, 1, 7, 0, 5, 18, 19, 15, 11, 22, 16, 9, 23, 6, 10, 17, 12, 8, 20,\n",
       "       21, 14, 3, 2, 13, 'SD'], dtype=object)"
      ]
     },
     "execution_count": 258,
     "metadata": {},
     "output_type": "execute_result"
    }
   ],
   "source": [
    "homicidios_hechos[\"HH\"].unique()"
   ]
  },
  {
   "cell_type": "code",
   "execution_count": 259,
   "metadata": {},
   "outputs": [],
   "source": [
    "# Cambio el dato horas  a tipo de dato numerico y luego a entero \n",
    "homicidios_hechos[\"HH\"] = pd.to_numeric(homicidios_hechos [\"HH\"], errors=\"coerce\")\n",
    "homicidios_hechos[\"HH\"] = homicidios_hechos[\"HH\"].astype(\"Int64\")"
   ]
  },
  {
   "cell_type": "code",
   "execution_count": 260,
   "metadata": {},
   "outputs": [
    {
     "name": "stdout",
     "output_type": "stream",
     "text": [
      "<class 'pandas.core.frame.DataFrame'>\n",
      "RangeIndex: 696 entries, 0 to 695\n",
      "Data columns (total 20 columns):\n",
      " #   Column                 Non-Null Count  Dtype         \n",
      "---  ------                 --------------  -----         \n",
      " 0   ID                     696 non-null    object        \n",
      " 1   N_VICTIMAS             696 non-null    int64         \n",
      " 2   FECHA                  696 non-null    datetime64[ns]\n",
      " 3   AAAA                   696 non-null    int64         \n",
      " 4   MM                     696 non-null    int64         \n",
      " 5   DD                     696 non-null    int64         \n",
      " 6   HORA                   696 non-null    object        \n",
      " 7   HH                     695 non-null    Int64         \n",
      " 8   LUGAR_DEL_HECHO        696 non-null    object        \n",
      " 9   TIPO_DE_CALLE          696 non-null    object        \n",
      " 10  Calle                  695 non-null    object        \n",
      " 11  Cruce                  525 non-null    object        \n",
      " 12  Dirección Normalizada  688 non-null    object        \n",
      " 13  COMUNA                 696 non-null    int64         \n",
      " 14  XY (CABA)              696 non-null    object        \n",
      " 15  pos x                  696 non-null    object        \n",
      " 16  pos y                  696 non-null    object        \n",
      " 17  PARTICIPANTES          696 non-null    object        \n",
      " 18  VICTIMA                696 non-null    object        \n",
      " 19  ACUSADO                696 non-null    object        \n",
      "dtypes: Int64(1), datetime64[ns](1), int64(5), object(13)\n",
      "memory usage: 109.6+ KB\n"
     ]
    }
   ],
   "source": [
    "homicidios_hechos.info()"
   ]
  },
  {
   "cell_type": "markdown",
   "metadata": {},
   "source": [
    "Transformacion a columnas 'pos x' y 'pos y'"
   ]
  },
  {
   "cell_type": "code",
   "execution_count": 261,
   "metadata": {},
   "outputs": [],
   "source": [
    "# Filtrar filas con posiciones no válidas\n",
    "valid_positions = ~(homicidios_hechos['pos x'].str.contains('[^0-9.,-]') | homicidios_hechos['pos y'].str.contains('[^0-9.,-]') | (homicidios_hechos['pos x'] == '.') | (homicidios_hechos['pos y'] == '.'))\n",
    "\n",
    "# Establecer posiciones no válidas en NaN\n",
    "homicidios_hechos.loc[~valid_positions, ['pos x', 'pos y']] = np.nan\n",
    "\n",
    "# Convertir las cadenas a tipo numérico (float)\n",
    "homicidios_hechos['pos x'] = homicidios_hechos['pos x'].str.replace(',', '.').astype(float)\n",
    "homicidios_hechos['pos y'] = homicidios_hechos['pos y'].str.replace(',', '.').astype(float)"
   ]
  },
  {
   "cell_type": "code",
   "execution_count": 262,
   "metadata": {},
   "outputs": [
    {
     "data": {
      "text/html": [
       "<div>\n",
       "<style scoped>\n",
       "    .dataframe tbody tr th:only-of-type {\n",
       "        vertical-align: middle;\n",
       "    }\n",
       "\n",
       "    .dataframe tbody tr th {\n",
       "        vertical-align: top;\n",
       "    }\n",
       "\n",
       "    .dataframe thead th {\n",
       "        text-align: right;\n",
       "    }\n",
       "</style>\n",
       "<table border=\"1\" class=\"dataframe\">\n",
       "  <thead>\n",
       "    <tr style=\"text-align: right;\">\n",
       "      <th></th>\n",
       "      <th>ID</th>\n",
       "      <th>N_VICTIMAS</th>\n",
       "      <th>FECHA</th>\n",
       "      <th>AAAA</th>\n",
       "      <th>MM</th>\n",
       "      <th>DD</th>\n",
       "      <th>HORA</th>\n",
       "      <th>HH</th>\n",
       "      <th>LUGAR_DEL_HECHO</th>\n",
       "      <th>TIPO_DE_CALLE</th>\n",
       "      <th>Calle</th>\n",
       "      <th>Cruce</th>\n",
       "      <th>Dirección Normalizada</th>\n",
       "      <th>COMUNA</th>\n",
       "      <th>XY (CABA)</th>\n",
       "      <th>pos x</th>\n",
       "      <th>pos y</th>\n",
       "      <th>PARTICIPANTES</th>\n",
       "      <th>VICTIMA</th>\n",
       "      <th>ACUSADO</th>\n",
       "    </tr>\n",
       "  </thead>\n",
       "  <tbody>\n",
       "    <tr>\n",
       "      <th>0</th>\n",
       "      <td>2016-0001</td>\n",
       "      <td>1</td>\n",
       "      <td>2016-01-01</td>\n",
       "      <td>2016</td>\n",
       "      <td>1</td>\n",
       "      <td>1</td>\n",
       "      <td>04:00:00</td>\n",
       "      <td>4</td>\n",
       "      <td>AV PIEDRA BUENA Y AV FERNANDEZ DE LA CRUZ</td>\n",
       "      <td>AVENIDA</td>\n",
       "      <td>PIEDRA BUENA AV.</td>\n",
       "      <td>FERNANDEZ DE LA CRUZ, F., GRAL. AV.</td>\n",
       "      <td>PIEDRA BUENA AV. y FERNANDEZ DE LA CRUZ, F., G...</td>\n",
       "      <td>8</td>\n",
       "      <td>Point (98896.78238426 93532.43437792)</td>\n",
       "      <td>-58.475340</td>\n",
       "      <td>-34.687570</td>\n",
       "      <td>MOTO-AUTO</td>\n",
       "      <td>MOTO</td>\n",
       "      <td>AUTO</td>\n",
       "    </tr>\n",
       "    <tr>\n",
       "      <th>1</th>\n",
       "      <td>2016-0002</td>\n",
       "      <td>1</td>\n",
       "      <td>2016-01-02</td>\n",
       "      <td>2016</td>\n",
       "      <td>1</td>\n",
       "      <td>2</td>\n",
       "      <td>01:15:00</td>\n",
       "      <td>1</td>\n",
       "      <td>AV GRAL PAZ  Y AV DE LOS CORRALES</td>\n",
       "      <td>GRAL PAZ</td>\n",
       "      <td>PAZ, GRAL. AV.</td>\n",
       "      <td>DE LOS CORRALES AV.</td>\n",
       "      <td>PAZ, GRAL. AV. y DE LOS CORRALES AV.</td>\n",
       "      <td>9</td>\n",
       "      <td>Point (95832.05571093 95505.41641999)</td>\n",
       "      <td>-58.508775</td>\n",
       "      <td>-34.669777</td>\n",
       "      <td>AUTO-PASAJEROS</td>\n",
       "      <td>AUTO</td>\n",
       "      <td>PASAJEROS</td>\n",
       "    </tr>\n",
       "    <tr>\n",
       "      <th>2</th>\n",
       "      <td>2016-0003</td>\n",
       "      <td>1</td>\n",
       "      <td>2016-01-03</td>\n",
       "      <td>2016</td>\n",
       "      <td>1</td>\n",
       "      <td>3</td>\n",
       "      <td>07:00:00</td>\n",
       "      <td>7</td>\n",
       "      <td>AV ENTRE RIOS 2034</td>\n",
       "      <td>AVENIDA</td>\n",
       "      <td>ENTRE RIOS AV.</td>\n",
       "      <td>NaN</td>\n",
       "      <td>ENTRE RIOS AV. 2034</td>\n",
       "      <td>1</td>\n",
       "      <td>Point (106684.29090040 99706.57687843)</td>\n",
       "      <td>-58.390403</td>\n",
       "      <td>-34.631894</td>\n",
       "      <td>MOTO-AUTO</td>\n",
       "      <td>MOTO</td>\n",
       "      <td>AUTO</td>\n",
       "    </tr>\n",
       "  </tbody>\n",
       "</table>\n",
       "</div>"
      ],
      "text/plain": [
       "          ID  N_VICTIMAS      FECHA  AAAA  MM  DD      HORA  HH  \\\n",
       "0  2016-0001           1 2016-01-01  2016   1   1  04:00:00   4   \n",
       "1  2016-0002           1 2016-01-02  2016   1   2  01:15:00   1   \n",
       "2  2016-0003           1 2016-01-03  2016   1   3  07:00:00   7   \n",
       "\n",
       "                             LUGAR_DEL_HECHO TIPO_DE_CALLE             Calle  \\\n",
       "0  AV PIEDRA BUENA Y AV FERNANDEZ DE LA CRUZ       AVENIDA  PIEDRA BUENA AV.   \n",
       "1          AV GRAL PAZ  Y AV DE LOS CORRALES      GRAL PAZ    PAZ, GRAL. AV.   \n",
       "2                         AV ENTRE RIOS 2034       AVENIDA    ENTRE RIOS AV.   \n",
       "\n",
       "                                 Cruce  \\\n",
       "0  FERNANDEZ DE LA CRUZ, F., GRAL. AV.   \n",
       "1                  DE LOS CORRALES AV.   \n",
       "2                                  NaN   \n",
       "\n",
       "                               Dirección Normalizada  COMUNA  \\\n",
       "0  PIEDRA BUENA AV. y FERNANDEZ DE LA CRUZ, F., G...       8   \n",
       "1               PAZ, GRAL. AV. y DE LOS CORRALES AV.       9   \n",
       "2                                ENTRE RIOS AV. 2034       1   \n",
       "\n",
       "                                XY (CABA)      pos x      pos y  \\\n",
       "0   Point (98896.78238426 93532.43437792) -58.475340 -34.687570   \n",
       "1   Point (95832.05571093 95505.41641999) -58.508775 -34.669777   \n",
       "2  Point (106684.29090040 99706.57687843) -58.390403 -34.631894   \n",
       "\n",
       "    PARTICIPANTES VICTIMA    ACUSADO  \n",
       "0       MOTO-AUTO    MOTO       AUTO  \n",
       "1  AUTO-PASAJEROS    AUTO  PASAJEROS  \n",
       "2       MOTO-AUTO    MOTO       AUTO  "
      ]
     },
     "execution_count": 262,
     "metadata": {},
     "output_type": "execute_result"
    }
   ],
   "source": [
    "homicidios_hechos.head(3)"
   ]
  },
  {
   "cell_type": "markdown",
   "metadata": {},
   "source": [
    "Columnas resultantes"
   ]
  },
  {
   "cell_type": "code",
   "execution_count": 263,
   "metadata": {},
   "outputs": [
    {
     "data": {
      "text/plain": [
       "Index(['ID', 'N_VICTIMAS', 'FECHA', 'AAAA', 'MM', 'DD', 'HORA', 'HH',\n",
       "       'LUGAR_DEL_HECHO', 'TIPO_DE_CALLE', 'Calle', 'Cruce',\n",
       "       'Dirección Normalizada', 'COMUNA', 'XY (CABA)', 'pos x', 'pos y',\n",
       "       'PARTICIPANTES', 'VICTIMA', 'ACUSADO'],\n",
       "      dtype='object')"
      ]
     },
     "execution_count": 263,
     "metadata": {},
     "output_type": "execute_result"
    }
   ],
   "source": [
    "homicidios_hechos.columns"
   ]
  },
  {
   "cell_type": "markdown",
   "metadata": {},
   "source": [
    "En la columna 'Comuna' tenemos una numeracion del 1 al 15. Esta numeración identifica a cada una de las divisiones comunales de la ciudad autónoma de Buenos Aires.\n",
    "\n",
    "Para agregar valor al dataset, agregaremos la descripción de cada una de las comunas, con los Barrios que la conforman.\n",
    "\n",
    "Para eso utilizaremos el dataset 'comunas' importado junto al dataset `homicidios`. Este dataset fue descargado del siguiente sitio web: https://buenosaires.gob.ar/comunas"
   ]
  },
  {
   "cell_type": "code",
   "execution_count": 264,
   "metadata": {},
   "outputs": [],
   "source": [
    "#Se realiza el merge a través de la columna en comun `Comuna` y nos va a quedar anexada la columna `Barrios`\n",
    "\n",
    "homicidios_hechos=homicidios_hechos.merge(comunas, on=\"COMUNA\", how=\"left\")\n",
    "\n",
    "#Modifico las mayúsculas por minúsculas\n",
    "homicidios_hechos=homicidios_hechos.rename(columns={\n",
    "    \"BARRIOS\": \"Barrios\"\n",
    "})\n"
   ]
  },
  {
   "cell_type": "code",
   "execution_count": 265,
   "metadata": {},
   "outputs": [
    {
     "data": {
      "text/html": [
       "<div>\n",
       "<style scoped>\n",
       "    .dataframe tbody tr th:only-of-type {\n",
       "        vertical-align: middle;\n",
       "    }\n",
       "\n",
       "    .dataframe tbody tr th {\n",
       "        vertical-align: top;\n",
       "    }\n",
       "\n",
       "    .dataframe thead th {\n",
       "        text-align: right;\n",
       "    }\n",
       "</style>\n",
       "<table border=\"1\" class=\"dataframe\">\n",
       "  <thead>\n",
       "    <tr style=\"text-align: right;\">\n",
       "      <th></th>\n",
       "      <th>ID</th>\n",
       "      <th>N_VICTIMAS</th>\n",
       "      <th>FECHA</th>\n",
       "      <th>AAAA</th>\n",
       "      <th>MM</th>\n",
       "      <th>DD</th>\n",
       "      <th>HORA</th>\n",
       "      <th>HH</th>\n",
       "      <th>LUGAR_DEL_HECHO</th>\n",
       "      <th>TIPO_DE_CALLE</th>\n",
       "      <th>...</th>\n",
       "      <th>Cruce</th>\n",
       "      <th>Dirección Normalizada</th>\n",
       "      <th>COMUNA</th>\n",
       "      <th>XY (CABA)</th>\n",
       "      <th>pos x</th>\n",
       "      <th>pos y</th>\n",
       "      <th>PARTICIPANTES</th>\n",
       "      <th>VICTIMA</th>\n",
       "      <th>ACUSADO</th>\n",
       "      <th>Barrios</th>\n",
       "    </tr>\n",
       "  </thead>\n",
       "  <tbody>\n",
       "    <tr>\n",
       "      <th>0</th>\n",
       "      <td>2016-0001</td>\n",
       "      <td>1</td>\n",
       "      <td>2016-01-01</td>\n",
       "      <td>2016</td>\n",
       "      <td>1</td>\n",
       "      <td>1</td>\n",
       "      <td>04:00:00</td>\n",
       "      <td>4</td>\n",
       "      <td>AV PIEDRA BUENA Y AV FERNANDEZ DE LA CRUZ</td>\n",
       "      <td>AVENIDA</td>\n",
       "      <td>...</td>\n",
       "      <td>FERNANDEZ DE LA CRUZ, F., GRAL. AV.</td>\n",
       "      <td>PIEDRA BUENA AV. y FERNANDEZ DE LA CRUZ, F., G...</td>\n",
       "      <td>8</td>\n",
       "      <td>Point (98896.78238426 93532.43437792)</td>\n",
       "      <td>-58.475340</td>\n",
       "      <td>-34.687570</td>\n",
       "      <td>MOTO-AUTO</td>\n",
       "      <td>MOTO</td>\n",
       "      <td>AUTO</td>\n",
       "      <td>VILLA LUGANO - VILLA RIACHUELO - VILLA SOLDATI</td>\n",
       "    </tr>\n",
       "    <tr>\n",
       "      <th>1</th>\n",
       "      <td>2016-0002</td>\n",
       "      <td>1</td>\n",
       "      <td>2016-01-02</td>\n",
       "      <td>2016</td>\n",
       "      <td>1</td>\n",
       "      <td>2</td>\n",
       "      <td>01:15:00</td>\n",
       "      <td>1</td>\n",
       "      <td>AV GRAL PAZ  Y AV DE LOS CORRALES</td>\n",
       "      <td>GRAL PAZ</td>\n",
       "      <td>...</td>\n",
       "      <td>DE LOS CORRALES AV.</td>\n",
       "      <td>PAZ, GRAL. AV. y DE LOS CORRALES AV.</td>\n",
       "      <td>9</td>\n",
       "      <td>Point (95832.05571093 95505.41641999)</td>\n",
       "      <td>-58.508775</td>\n",
       "      <td>-34.669777</td>\n",
       "      <td>AUTO-PASAJEROS</td>\n",
       "      <td>AUTO</td>\n",
       "      <td>PASAJEROS</td>\n",
       "      <td>LINIERS - MATADEROS - PARQUE AVELLANEDA</td>\n",
       "    </tr>\n",
       "    <tr>\n",
       "      <th>2</th>\n",
       "      <td>2016-0003</td>\n",
       "      <td>1</td>\n",
       "      <td>2016-01-03</td>\n",
       "      <td>2016</td>\n",
       "      <td>1</td>\n",
       "      <td>3</td>\n",
       "      <td>07:00:00</td>\n",
       "      <td>7</td>\n",
       "      <td>AV ENTRE RIOS 2034</td>\n",
       "      <td>AVENIDA</td>\n",
       "      <td>...</td>\n",
       "      <td>NaN</td>\n",
       "      <td>ENTRE RIOS AV. 2034</td>\n",
       "      <td>1</td>\n",
       "      <td>Point (106684.29090040 99706.57687843)</td>\n",
       "      <td>-58.390403</td>\n",
       "      <td>-34.631894</td>\n",
       "      <td>MOTO-AUTO</td>\n",
       "      <td>MOTO</td>\n",
       "      <td>AUTO</td>\n",
       "      <td>CONSTITUCION - MONTSERRAT - PUERTO MADERO - RE...</td>\n",
       "    </tr>\n",
       "  </tbody>\n",
       "</table>\n",
       "<p>3 rows × 21 columns</p>\n",
       "</div>"
      ],
      "text/plain": [
       "          ID  N_VICTIMAS      FECHA  AAAA  MM  DD      HORA  HH  \\\n",
       "0  2016-0001           1 2016-01-01  2016   1   1  04:00:00   4   \n",
       "1  2016-0002           1 2016-01-02  2016   1   2  01:15:00   1   \n",
       "2  2016-0003           1 2016-01-03  2016   1   3  07:00:00   7   \n",
       "\n",
       "                             LUGAR_DEL_HECHO TIPO_DE_CALLE  ...  \\\n",
       "0  AV PIEDRA BUENA Y AV FERNANDEZ DE LA CRUZ       AVENIDA  ...   \n",
       "1          AV GRAL PAZ  Y AV DE LOS CORRALES      GRAL PAZ  ...   \n",
       "2                         AV ENTRE RIOS 2034       AVENIDA  ...   \n",
       "\n",
       "                                 Cruce  \\\n",
       "0  FERNANDEZ DE LA CRUZ, F., GRAL. AV.   \n",
       "1                  DE LOS CORRALES AV.   \n",
       "2                                  NaN   \n",
       "\n",
       "                               Dirección Normalizada COMUNA  \\\n",
       "0  PIEDRA BUENA AV. y FERNANDEZ DE LA CRUZ, F., G...      8   \n",
       "1               PAZ, GRAL. AV. y DE LOS CORRALES AV.      9   \n",
       "2                                ENTRE RIOS AV. 2034      1   \n",
       "\n",
       "                                XY (CABA)      pos x      pos y  \\\n",
       "0   Point (98896.78238426 93532.43437792) -58.475340 -34.687570   \n",
       "1   Point (95832.05571093 95505.41641999) -58.508775 -34.669777   \n",
       "2  Point (106684.29090040 99706.57687843) -58.390403 -34.631894   \n",
       "\n",
       "    PARTICIPANTES VICTIMA    ACUSADO  \\\n",
       "0       MOTO-AUTO    MOTO       AUTO   \n",
       "1  AUTO-PASAJEROS    AUTO  PASAJEROS   \n",
       "2       MOTO-AUTO    MOTO       AUTO   \n",
       "\n",
       "                                             Barrios  \n",
       "0     VILLA LUGANO - VILLA RIACHUELO - VILLA SOLDATI  \n",
       "1            LINIERS - MATADEROS - PARQUE AVELLANEDA  \n",
       "2  CONSTITUCION - MONTSERRAT - PUERTO MADERO - RE...  \n",
       "\n",
       "[3 rows x 21 columns]"
      ]
     },
     "execution_count": 265,
     "metadata": {},
     "output_type": "execute_result"
    }
   ],
   "source": [
    "homicidios_hechos.head(3)"
   ]
  },
  {
   "cell_type": "markdown",
   "metadata": {},
   "source": [
    "Las colummas tienen nombres en mayúsculas y también en minúsculas. Se estandarizan a modo de buena práctica"
   ]
  },
  {
   "cell_type": "code",
   "execution_count": 266,
   "metadata": {},
   "outputs": [
    {
     "data": {
      "text/plain": [
       "Index(['Id', 'Num víctimas', 'Fecha', 'Año', 'Mes', 'Día', 'Hora completa',\n",
       "       'Hora', 'Lugar del hecho', 'Tipo de calle', 'Calle', 'Cruce',\n",
       "       'Dirección normalizada', 'Comuna', 'Xy (caba)', 'Pos x', 'Pos y',\n",
       "       'Participantes', 'Victima', 'Acusado', 'Barrios'],\n",
       "      dtype='object')"
      ]
     },
     "execution_count": 266,
     "metadata": {},
     "output_type": "execute_result"
    }
   ],
   "source": [
    "#Cambio la primer letra a mayúscula\n",
    "homicidios_hechos.columns = [x.capitalize() for x in homicidios_hechos.columns]\n",
    "# Reemplazo guiones por espacios\n",
    "homicidios_hechos.columns = homicidios_hechos.columns.str.replace(\"_\", \" \")\n",
    "#Renombra columnas \n",
    "homicidios_hechos= homicidios_hechos.rename(columns={\"N victimas\": \"Num víctimas\",\n",
    "                                            \"Aaaa\": \"Año\",\n",
    "                                            \"Mm\":\"Mes\",\n",
    "                                            \"Dd\": \"Día\",\n",
    "                                            \"Hora\": \"Hora completa\",\n",
    "                                            \"Hh\": \"Hora\"}) \n",
    "\n",
    "homicidios_hechos.columns"
   ]
  },
  {
   "cell_type": "markdown",
   "metadata": {},
   "source": [
    "Al analizar los datos de la columna `Día` se muestra solo el numero del día y no el nombre correspondiente por lo que se crea la columna `Día semana` donde se corresponde cada fecha con un dia de la semana para poder analizar luego como se relacionan los siniestros con los dias de la semana"
   ]
  },
  {
   "cell_type": "code",
   "execution_count": 267,
   "metadata": {},
   "outputs": [
    {
     "data": {
      "text/plain": [
       "0       1\n",
       "1       2\n",
       "2       3\n",
       "3      10\n",
       "4      21\n",
       "       ..\n",
       "691    13\n",
       "692    20\n",
       "693    30\n",
       "694    15\n",
       "695    18\n",
       "Name: Día, Length: 696, dtype: int64"
      ]
     },
     "execution_count": 267,
     "metadata": {},
     "output_type": "execute_result"
    }
   ],
   "source": [
    "homicidios_hechos.Día"
   ]
  },
  {
   "cell_type": "code",
   "execution_count": 268,
   "metadata": {},
   "outputs": [],
   "source": [
    "#Creo una columna nueva `Día semana` que contenga el nombre del día de la semana\n",
    "homicidios_hechos['Día semana'] = homicidios_hechos['Fecha'].dt.strftime('%A')\n",
    "\n",
    "#Creo un diccionario para modificar a español los nombres de los dás de la semana y lo aplico a la columna nueva\n",
    "dic={  'Friday':'Viernes 6',\n",
    "       'Saturday': 'Sabado 7',\n",
    "       'Sunday': 'Domingo 1',  \n",
    "       'Thursday': 'Jueves 5',\n",
    "        'Monday': 'Lunes 2',\n",
    "        'Wednesday': 'Miercoles 4',\n",
    "       'Tuesday': 'Martes 3'}\n",
    "homicidios_hechos['Día semana'] =homicidios_hechos['Día semana'].replace(dic)"
   ]
  },
  {
   "cell_type": "code",
   "execution_count": 269,
   "metadata": {},
   "outputs": [
    {
     "data": {
      "text/plain": [
       "Index(['Id', 'Num víctimas', 'Fecha', 'Año', 'Mes', 'Día', 'Hora completa',\n",
       "       'Hora', 'Lugar del hecho', 'Tipo de calle', 'Calle', 'Cruce',\n",
       "       'Dirección normalizada', 'Comuna', 'Xy (caba)', 'Pos x', 'Pos y',\n",
       "       'Participantes', 'Victima', 'Acusado', 'Barrios', 'Día semana'],\n",
       "      dtype='object')"
      ]
     },
     "execution_count": 269,
     "metadata": {},
     "output_type": "execute_result"
    }
   ],
   "source": [
    "homicidios_hechos.columns"
   ]
  },
  {
   "cell_type": "markdown",
   "metadata": {},
   "source": [
    "La colmuna `Comuna` se modifica agregando el termino Comuna antes del número, a fin de lograr una variable categórica que me simplifique el análisis"
   ]
  },
  {
   "cell_type": "code",
   "execution_count": 270,
   "metadata": {},
   "outputs": [
    {
     "data": {
      "text/plain": [
       "array([ 8,  9,  1, 11, 15,  4,  7, 12,  3, 13, 14, 10,  6,  2,  5,  0],\n",
       "      dtype=int64)"
      ]
     },
     "execution_count": 270,
     "metadata": {},
     "output_type": "execute_result"
    }
   ],
   "source": [
    "homicidios_hechos[\"Comuna\"].unique()"
   ]
  },
  {
   "cell_type": "code",
   "execution_count": 271,
   "metadata": {},
   "outputs": [],
   "source": [
    "#Agrego la palabra Comuna delante del dato numérico\n",
    "#se aplica la función lambda a cada fila del dataframe \n",
    "homicidios_hechos[\"Comuna\"] = homicidios_hechos.apply(lambda x: \"Comuna \"+str(x[\"Comuna\"]), axis=1)\n"
   ]
  },
  {
   "cell_type": "code",
   "execution_count": 272,
   "metadata": {},
   "outputs": [
    {
     "data": {
      "text/plain": [
       "array(['Comuna 8', 'Comuna 9', 'Comuna 1', 'Comuna 11', 'Comuna 15',\n",
       "       'Comuna 4', 'Comuna 7', 'Comuna 12', 'Comuna 3', 'Comuna 13',\n",
       "       'Comuna 14', 'Comuna 10', 'Comuna 6', 'Comuna 2', 'Comuna 5',\n",
       "       'Comuna 0'], dtype=object)"
      ]
     },
     "execution_count": 272,
     "metadata": {},
     "output_type": "execute_result"
    }
   ],
   "source": [
    "homicidios_hechos[\"Comuna\"].unique()"
   ]
  },
  {
   "cell_type": "code",
   "execution_count": 273,
   "metadata": {},
   "outputs": [
    {
     "data": {
      "text/plain": [
       "Id                         0\n",
       "Num víctimas               0\n",
       "Fecha                      0\n",
       "Año                        0\n",
       "Mes                        0\n",
       "Día                        0\n",
       "Hora completa              0\n",
       "Hora                       1\n",
       "Lugar del hecho            0\n",
       "Tipo de calle              0\n",
       "Calle                      1\n",
       "Cruce                    171\n",
       "Dirección normalizada      8\n",
       "Comuna                     0\n",
       "Xy (caba)                  0\n",
       "Pos x                     12\n",
       "Pos y                     12\n",
       "Participantes              0\n",
       "Victima                    0\n",
       "Acusado                    0\n",
       "Barrios                    2\n",
       "Día semana                 0\n",
       "dtype: int64"
      ]
     },
     "execution_count": 273,
     "metadata": {},
     "output_type": "execute_result"
    }
   ],
   "source": [
    "homicidios_hechos.isna().sum()"
   ]
  },
  {
   "cell_type": "code",
   "execution_count": 274,
   "metadata": {},
   "outputs": [
    {
     "name": "stdout",
     "output_type": "stream",
     "text": [
      "<class 'pandas.core.frame.DataFrame'>\n",
      "RangeIndex: 696 entries, 0 to 695\n",
      "Data columns (total 22 columns):\n",
      " #   Column                 Non-Null Count  Dtype         \n",
      "---  ------                 --------------  -----         \n",
      " 0   Id                     696 non-null    object        \n",
      " 1   Num víctimas           696 non-null    int64         \n",
      " 2   Fecha                  696 non-null    datetime64[ns]\n",
      " 3   Año                    696 non-null    int64         \n",
      " 4   Mes                    696 non-null    int64         \n",
      " 5   Día                    696 non-null    int64         \n",
      " 6   Hora completa          696 non-null    object        \n",
      " 7   Hora                   695 non-null    Int64         \n",
      " 8   Lugar del hecho        696 non-null    object        \n",
      " 9   Tipo de calle          696 non-null    object        \n",
      " 10  Calle                  695 non-null    object        \n",
      " 11  Cruce                  525 non-null    object        \n",
      " 12  Dirección normalizada  688 non-null    object        \n",
      " 13  Comuna                 696 non-null    object        \n",
      " 14  Xy (caba)              696 non-null    object        \n",
      " 15  Pos x                  684 non-null    float64       \n",
      " 16  Pos y                  684 non-null    float64       \n",
      " 17  Participantes          696 non-null    object        \n",
      " 18  Victima                696 non-null    object        \n",
      " 19  Acusado                696 non-null    object        \n",
      " 20  Barrios                694 non-null    object        \n",
      " 21  Día semana             696 non-null    object        \n",
      "dtypes: Int64(1), datetime64[ns](1), float64(2), int64(4), object(14)\n",
      "memory usage: 120.4+ KB\n"
     ]
    }
   ],
   "source": [
    "homicidios_hechos.info()"
   ]
  },
  {
   "cell_type": "markdown",
   "metadata": {},
   "source": [
    "# `homicidios- víctimas`"
   ]
  },
  {
   "cell_type": "code",
   "execution_count": 275,
   "metadata": {},
   "outputs": [
    {
     "name": "stdout",
     "output_type": "stream",
     "text": [
      "<class 'pandas.core.frame.DataFrame'>\n",
      "RangeIndex: 717 entries, 0 to 716\n",
      "Data columns (total 10 columns):\n",
      " #   Column               Non-Null Count  Dtype         \n",
      "---  ------               --------------  -----         \n",
      " 0   ID_hecho             717 non-null    object        \n",
      " 1   FECHA                717 non-null    datetime64[ns]\n",
      " 2   AAAA                 717 non-null    int64         \n",
      " 3   MM                   717 non-null    int64         \n",
      " 4   DD                   717 non-null    int64         \n",
      " 5   ROL                  717 non-null    object        \n",
      " 6   VICTIMA              717 non-null    object        \n",
      " 7   SEXO                 717 non-null    object        \n",
      " 8   EDAD                 717 non-null    object        \n",
      " 9   FECHA_FALLECIMIENTO  717 non-null    object        \n",
      "dtypes: datetime64[ns](1), int64(3), object(6)\n",
      "memory usage: 56.1+ KB\n"
     ]
    }
   ],
   "source": [
    "homicidios_victimas.info()"
   ]
  },
  {
   "cell_type": "markdown",
   "metadata": {},
   "source": [
    "### Transformación de los datos"
   ]
  },
  {
   "cell_type": "markdown",
   "metadata": {},
   "source": [
    "- Conversión del tipo de dato"
   ]
  },
  {
   "cell_type": "code",
   "execution_count": 276,
   "metadata": {},
   "outputs": [],
   "source": [
    "#Cambio la columna a tipo datetime\n",
    "homicidios_victimas[\"FECHA_FALLECIMIENTO\"] = pd.to_datetime(homicidios_victimas[\"FECHA_FALLECIMIENTO\"], format='%Y-%m-%d', errors='coerce')"
   ]
  },
  {
   "cell_type": "code",
   "execution_count": 277,
   "metadata": {},
   "outputs": [],
   "source": [
    "#Una vez que se paso el tipo de dato a datetime que es una fecha y hora completa se utiliza este codigo para que solo se quede en formato fecha sin hora\n",
    "homicidios_victimas[\"FECHA_FALLECIMIENTO\"] = homicidios_victimas[\"FECHA_FALLECIMIENTO\"].dt.date\n",
    "\n",
    "#Luego se reemplazan las fechas en cero con espacios vacios a fin de su manipulación\n",
    "homicidios_victimas[\"FECHA_FALLECIMIENTO\"] = homicidios_victimas [\"FECHA_FALLECIMIENTO\"].replace(pd.NaT,\"\")"
   ]
  },
  {
   "cell_type": "code",
   "execution_count": 278,
   "metadata": {},
   "outputs": [],
   "source": [
    "#Cambio la columna edad a numerico y luego a tipo entero\n",
    "homicidios_victimas [\"EDAD\"] = pd.to_numeric(homicidios_victimas[\"EDAD\"], errors=\"coerce\")\n",
    "homicidios_victimas [\"EDAD\"] = homicidios_victimas[\"EDAD\"].astype(\"Int64\")"
   ]
  },
  {
   "cell_type": "code",
   "execution_count": 279,
   "metadata": {},
   "outputs": [],
   "source": [
    "#Utilizo Numpy para reemplazar por NaN los sin datos o vacios y luego paso a float para que cuando quiera aplicar estadisticas no tenga errores debido a esos datos\n",
    "homicidios_victimas[\"EDAD\"] = homicidios_victimas[\"EDAD\"].replace([\" \",\"SD\"], np.nan)"
   ]
  },
  {
   "cell_type": "code",
   "execution_count": 280,
   "metadata": {},
   "outputs": [],
   "source": [
    "homicidios_victimas[\"EDAD\"] = homicidios_victimas[\"EDAD\"].fillna(0.0)"
   ]
  },
  {
   "cell_type": "code",
   "execution_count": 281,
   "metadata": {},
   "outputs": [
    {
     "data": {
      "text/plain": [
       "<IntegerArray>\n",
       "[19, 70, 30, 18, 29, 22, 16, 59, 65, 34, 41, 50, 38, 21, 52, 36, 20, 54,  0,\n",
       " 56, 24, 78, 79, 26, 57, 37, 58, 23, 60, 42, 53, 51, 40, 87, 76, 75, 35, 80,\n",
       " 43, 45, 67, 27, 55, 49, 81, 25, 33, 46, 83, 39, 28,  7, 48,  4, 82, 32, 17,\n",
       " 47, 61, 10, 95, 73, 84, 66, 85,  1, 15, 13, 77, 44, 31, 62, 74, 71, 11, 86,\n",
       " 69, 72, 12, 63, 92, 68, 91, 64,  5, 88]\n",
       "Length: 86, dtype: Int64"
      ]
     },
     "execution_count": 281,
     "metadata": {},
     "output_type": "execute_result"
    }
   ],
   "source": [
    "#Controlo los datos de la columna\n",
    "homicidios_victimas [\"EDAD\"].unique()"
   ]
  },
  {
   "cell_type": "code",
   "execution_count": 282,
   "metadata": {},
   "outputs": [
    {
     "data": {
      "text/html": [
       "<div>\n",
       "<style scoped>\n",
       "    .dataframe tbody tr th:only-of-type {\n",
       "        vertical-align: middle;\n",
       "    }\n",
       "\n",
       "    .dataframe tbody tr th {\n",
       "        vertical-align: top;\n",
       "    }\n",
       "\n",
       "    .dataframe thead th {\n",
       "        text-align: right;\n",
       "    }\n",
       "</style>\n",
       "<table border=\"1\" class=\"dataframe\">\n",
       "  <thead>\n",
       "    <tr style=\"text-align: right;\">\n",
       "      <th></th>\n",
       "      <th>ID_hecho</th>\n",
       "      <th>FECHA</th>\n",
       "      <th>AAAA</th>\n",
       "      <th>MM</th>\n",
       "      <th>DD</th>\n",
       "      <th>ROL</th>\n",
       "      <th>VICTIMA</th>\n",
       "      <th>SEXO</th>\n",
       "      <th>EDAD</th>\n",
       "      <th>FECHA_FALLECIMIENTO</th>\n",
       "    </tr>\n",
       "  </thead>\n",
       "  <tbody>\n",
       "    <tr>\n",
       "      <th>0</th>\n",
       "      <td>2016-0001</td>\n",
       "      <td>2016-01-01</td>\n",
       "      <td>2016</td>\n",
       "      <td>1</td>\n",
       "      <td>1</td>\n",
       "      <td>CONDUCTOR</td>\n",
       "      <td>MOTO</td>\n",
       "      <td>MASCULINO</td>\n",
       "      <td>19</td>\n",
       "      <td>2016-01-01</td>\n",
       "    </tr>\n",
       "    <tr>\n",
       "      <th>1</th>\n",
       "      <td>2016-0002</td>\n",
       "      <td>2016-01-02</td>\n",
       "      <td>2016</td>\n",
       "      <td>1</td>\n",
       "      <td>2</td>\n",
       "      <td>CONDUCTOR</td>\n",
       "      <td>AUTO</td>\n",
       "      <td>MASCULINO</td>\n",
       "      <td>70</td>\n",
       "      <td>2016-01-02</td>\n",
       "    </tr>\n",
       "    <tr>\n",
       "      <th>2</th>\n",
       "      <td>2016-0003</td>\n",
       "      <td>2016-01-03</td>\n",
       "      <td>2016</td>\n",
       "      <td>1</td>\n",
       "      <td>3</td>\n",
       "      <td>CONDUCTOR</td>\n",
       "      <td>MOTO</td>\n",
       "      <td>MASCULINO</td>\n",
       "      <td>30</td>\n",
       "      <td>2016-01-03</td>\n",
       "    </tr>\n",
       "  </tbody>\n",
       "</table>\n",
       "</div>"
      ],
      "text/plain": [
       "    ID_hecho      FECHA  AAAA  MM  DD        ROL VICTIMA       SEXO  EDAD  \\\n",
       "0  2016-0001 2016-01-01  2016   1   1  CONDUCTOR    MOTO  MASCULINO    19   \n",
       "1  2016-0002 2016-01-02  2016   1   2  CONDUCTOR    AUTO  MASCULINO    70   \n",
       "2  2016-0003 2016-01-03  2016   1   3  CONDUCTOR    MOTO  MASCULINO    30   \n",
       "\n",
       "  FECHA_FALLECIMIENTO  \n",
       "0          2016-01-01  \n",
       "1          2016-01-02  \n",
       "2          2016-01-03  "
      ]
     },
     "execution_count": 282,
     "metadata": {},
     "output_type": "execute_result"
    }
   ],
   "source": [
    "homicidios_victimas.head(3)"
   ]
  },
  {
   "cell_type": "markdown",
   "metadata": {},
   "source": [
    "No se encuentran datos nulos, ni campos vacios"
   ]
  },
  {
   "cell_type": "code",
   "execution_count": 283,
   "metadata": {},
   "outputs": [
    {
     "data": {
      "text/plain": [
       "ID_hecho               0\n",
       "FECHA                  0\n",
       "AAAA                   0\n",
       "MM                     0\n",
       "DD                     0\n",
       "ROL                    0\n",
       "VICTIMA                0\n",
       "SEXO                   0\n",
       "EDAD                   0\n",
       "FECHA_FALLECIMIENTO    0\n",
       "dtype: int64"
      ]
     },
     "execution_count": 283,
     "metadata": {},
     "output_type": "execute_result"
    }
   ],
   "source": [
    "homicidios_victimas.isnull().sum()"
   ]
  },
  {
   "cell_type": "markdown",
   "metadata": {},
   "source": [
    "Se crea la columna `Rango etario` basada en la columna `Edad`, para mejorar el análisis de los datos "
   ]
  },
  {
   "cell_type": "code",
   "execution_count": 284,
   "metadata": {},
   "outputs": [
    {
     "data": {
      "text/html": [
       "<div>\n",
       "<style scoped>\n",
       "    .dataframe tbody tr th:only-of-type {\n",
       "        vertical-align: middle;\n",
       "    }\n",
       "\n",
       "    .dataframe tbody tr th {\n",
       "        vertical-align: top;\n",
       "    }\n",
       "\n",
       "    .dataframe thead th {\n",
       "        text-align: right;\n",
       "    }\n",
       "</style>\n",
       "<table border=\"1\" class=\"dataframe\">\n",
       "  <thead>\n",
       "    <tr style=\"text-align: right;\">\n",
       "      <th></th>\n",
       "      <th>ID_hecho</th>\n",
       "      <th>FECHA</th>\n",
       "      <th>AAAA</th>\n",
       "      <th>MM</th>\n",
       "      <th>DD</th>\n",
       "      <th>ROL</th>\n",
       "      <th>VICTIMA</th>\n",
       "      <th>SEXO</th>\n",
       "      <th>EDAD</th>\n",
       "      <th>FECHA_FALLECIMIENTO</th>\n",
       "      <th>Rango_etario</th>\n",
       "    </tr>\n",
       "  </thead>\n",
       "  <tbody>\n",
       "    <tr>\n",
       "      <th>0</th>\n",
       "      <td>2016-0001</td>\n",
       "      <td>2016-01-01</td>\n",
       "      <td>2016</td>\n",
       "      <td>1</td>\n",
       "      <td>1</td>\n",
       "      <td>CONDUCTOR</td>\n",
       "      <td>MOTO</td>\n",
       "      <td>MASCULINO</td>\n",
       "      <td>19</td>\n",
       "      <td>2016-01-01</td>\n",
       "      <td>Menos de 20</td>\n",
       "    </tr>\n",
       "    <tr>\n",
       "      <th>1</th>\n",
       "      <td>2016-0002</td>\n",
       "      <td>2016-01-02</td>\n",
       "      <td>2016</td>\n",
       "      <td>1</td>\n",
       "      <td>2</td>\n",
       "      <td>CONDUCTOR</td>\n",
       "      <td>AUTO</td>\n",
       "      <td>MASCULINO</td>\n",
       "      <td>70</td>\n",
       "      <td>2016-01-02</td>\n",
       "      <td>Entre 61-80</td>\n",
       "    </tr>\n",
       "    <tr>\n",
       "      <th>2</th>\n",
       "      <td>2016-0003</td>\n",
       "      <td>2016-01-03</td>\n",
       "      <td>2016</td>\n",
       "      <td>1</td>\n",
       "      <td>3</td>\n",
       "      <td>CONDUCTOR</td>\n",
       "      <td>MOTO</td>\n",
       "      <td>MASCULINO</td>\n",
       "      <td>30</td>\n",
       "      <td>2016-01-03</td>\n",
       "      <td>Entre 21- 40</td>\n",
       "    </tr>\n",
       "  </tbody>\n",
       "</table>\n",
       "</div>"
      ],
      "text/plain": [
       "    ID_hecho      FECHA  AAAA  MM  DD        ROL VICTIMA       SEXO  EDAD  \\\n",
       "0  2016-0001 2016-01-01  2016   1   1  CONDUCTOR    MOTO  MASCULINO    19   \n",
       "1  2016-0002 2016-01-02  2016   1   2  CONDUCTOR    AUTO  MASCULINO    70   \n",
       "2  2016-0003 2016-01-03  2016   1   3  CONDUCTOR    MOTO  MASCULINO    30   \n",
       "\n",
       "  FECHA_FALLECIMIENTO   Rango_etario  \n",
       "0          2016-01-01    Menos de 20  \n",
       "1          2016-01-02    Entre 61-80  \n",
       "2          2016-01-03   Entre 21- 40  "
      ]
     },
     "execution_count": 284,
     "metadata": {},
     "output_type": "execute_result"
    }
   ],
   "source": [
    "# Se utiliza la función `pd.cut()`, que permite agrupar valores numéricos en intervalos o categorías\n",
    "\n",
    "\n",
    "# Definir los límites de los rangos etarios y las etiquetas\n",
    "bins = [0, 20, 40, 60, 80, 100]\n",
    "labels = ['Menos de 20', ' Entre 21- 40', 'Entre 41-60', 'Entre 61-80', 'Más de 80']\n",
    "\n",
    "# Utilizar pd.cut() para crear la columna de rango etario\n",
    "homicidios_victimas['Rango_etario'] = pd.cut(homicidios_victimas['EDAD'], bins=bins, labels=labels, right=False)\n",
    "\n",
    "homicidios_victimas.head(3)"
   ]
  },
  {
   "cell_type": "markdown",
   "metadata": {},
   "source": [
    "A continuación se estandarizan las mayúsculas y minúsculas del dataset"
   ]
  },
  {
   "cell_type": "code",
   "execution_count": 285,
   "metadata": {},
   "outputs": [
    {
     "data": {
      "text/plain": [
       "Index(['Id', 'Fecha', 'Año', 'Mes', 'Día', 'Rol', 'Víctima', 'Sexo', 'Edad',\n",
       "       'Fecha fallecimiento', 'Rango etario'],\n",
       "      dtype='object')"
      ]
     },
     "execution_count": 285,
     "metadata": {},
     "output_type": "execute_result"
    }
   ],
   "source": [
    "# Se coloca la primera en mayúscula\n",
    "homicidios_victimas.columns = [x.capitalize() for x in homicidios_victimas.columns]\n",
    "# Se reemplazan los guiones por espacios\n",
    "homicidios_victimas.columns = homicidios_victimas.columns.str.replace('_', ' ')\n",
    "# Se renombran algunas columnas\n",
    "homicidios_victimas = homicidios_victimas.rename(columns={'Id hecho': 'Id',\n",
    "                                                      'Aaaa':'Año',\n",
    "                                                      'Mm':'Mes',\n",
    "                                                      'Dd':'Día',\n",
    "                                                      'Victima':'Víctima'})\n",
    "homicidios_victimas.columns"
   ]
  },
  {
   "cell_type": "markdown",
   "metadata": {},
   "source": [
    "A partir de los datos, se analiza eliminar columnas que se repiten en ambos dataset para realizar luego la unión y trabajar con un conjunto de datos.\n",
    "Se proceden a eliminar del dataset `homicidios_victimas` las columnas `Fecha`, `Año`, `Mes`, `Día` y `Victima` que contienen la misma información que se encuentra en `homicidios_hechos`. "
   ]
  },
  {
   "cell_type": "code",
   "execution_count": 286,
   "metadata": {},
   "outputs": [],
   "source": [
    "columnas_a_borrar = ['Fecha', 'Año', 'Mes', 'Día', 'Víctima']\n",
    "\n",
    "homicidios_victimas = homicidios_victimas.drop(columns=columnas_a_borrar)\n"
   ]
  },
  {
   "cell_type": "code",
   "execution_count": 287,
   "metadata": {},
   "outputs": [
    {
     "name": "stdout",
     "output_type": "stream",
     "text": [
      "<class 'pandas.core.frame.DataFrame'>\n",
      "RangeIndex: 717 entries, 0 to 716\n",
      "Data columns (total 6 columns):\n",
      " #   Column               Non-Null Count  Dtype   \n",
      "---  ------               --------------  -----   \n",
      " 0   Id                   717 non-null    object  \n",
      " 1   Rol                  717 non-null    object  \n",
      " 2   Sexo                 717 non-null    object  \n",
      " 3   Edad                 717 non-null    Int64   \n",
      " 4   Fecha fallecimiento  717 non-null    object  \n",
      " 5   Rango etario         717 non-null    category\n",
      "dtypes: Int64(1), category(1), object(4)\n",
      "memory usage: 29.7+ KB\n"
     ]
    }
   ],
   "source": [
    "homicidios_victimas.info()"
   ]
  },
  {
   "cell_type": "markdown",
   "metadata": {},
   "source": [
    "## Unificación de los dataset"
   ]
  },
  {
   "cell_type": "markdown",
   "metadata": {},
   "source": [
    "Por medio de la función merge se unifican los dataset transformados anteriormente"
   ]
  },
  {
   "cell_type": "code",
   "execution_count": 288,
   "metadata": {},
   "outputs": [
    {
     "data": {
      "text/plain": [
       "Index(['Id', 'Rol', 'Sexo', 'Edad', 'Fecha fallecimiento', 'Rango etario',\n",
       "       'Num víctimas', 'Fecha', 'Año', 'Mes', 'Día', 'Hora completa', 'Hora',\n",
       "       'Lugar del hecho', 'Tipo de calle', 'Calle', 'Cruce',\n",
       "       'Dirección normalizada', 'Comuna', 'Xy (caba)', 'Pos x', 'Pos y',\n",
       "       'Participantes', 'Victima', 'Acusado', 'Barrios', 'Día semana'],\n",
       "      dtype='object')"
      ]
     },
     "execution_count": 288,
     "metadata": {},
     "output_type": "execute_result"
    }
   ],
   "source": [
    "siniestros= homicidios_victimas.merge(homicidios_hechos, on=\"Id\", how='left')\n",
    "siniestros.columns"
   ]
  },
  {
   "cell_type": "code",
   "execution_count": 289,
   "metadata": {},
   "outputs": [
    {
     "name": "stdout",
     "output_type": "stream",
     "text": [
      "<class 'pandas.core.frame.DataFrame'>\n",
      "RangeIndex: 717 entries, 0 to 716\n",
      "Data columns (total 27 columns):\n",
      " #   Column                 Non-Null Count  Dtype         \n",
      "---  ------                 --------------  -----         \n",
      " 0   Id                     717 non-null    object        \n",
      " 1   Rol                    717 non-null    object        \n",
      " 2   Sexo                   717 non-null    object        \n",
      " 3   Edad                   717 non-null    Int64         \n",
      " 4   Fecha fallecimiento    717 non-null    object        \n",
      " 5   Rango etario           717 non-null    category      \n",
      " 6   Num víctimas           717 non-null    int64         \n",
      " 7   Fecha                  717 non-null    datetime64[ns]\n",
      " 8   Año                    717 non-null    int64         \n",
      " 9   Mes                    717 non-null    int64         \n",
      " 10  Día                    717 non-null    int64         \n",
      " 11  Hora completa          717 non-null    object        \n",
      " 12  Hora                   716 non-null    Int64         \n",
      " 13  Lugar del hecho        717 non-null    object        \n",
      " 14  Tipo de calle          717 non-null    object        \n",
      " 15  Calle                  716 non-null    object        \n",
      " 16  Cruce                  540 non-null    object        \n",
      " 17  Dirección normalizada  708 non-null    object        \n",
      " 18  Comuna                 717 non-null    object        \n",
      " 19  Xy (caba)              717 non-null    object        \n",
      " 20  Pos x                  704 non-null    float64       \n",
      " 21  Pos y                  704 non-null    float64       \n",
      " 22  Participantes          717 non-null    object        \n",
      " 23  Victima                717 non-null    object        \n",
      " 24  Acusado                717 non-null    object        \n",
      " 25  Barrios                715 non-null    object        \n",
      " 26  Día semana             717 non-null    object        \n",
      "dtypes: Int64(2), category(1), datetime64[ns](1), float64(2), int64(4), object(17)\n",
      "memory usage: 148.1+ KB\n"
     ]
    }
   ],
   "source": [
    "siniestros.info()"
   ]
  },
  {
   "cell_type": "markdown",
   "metadata": {},
   "source": [
    "Al unificar los dataset se encontraron datos cambiados a tipo float que son necesarios como enteros, por lo que se transforman"
   ]
  },
  {
   "cell_type": "code",
   "execution_count": 290,
   "metadata": {},
   "outputs": [
    {
     "data": {
      "text/plain": [
       "array([1, 2, 3], dtype=int64)"
      ]
     },
     "execution_count": 290,
     "metadata": {},
     "output_type": "execute_result"
    }
   ],
   "source": [
    "siniestros[\"Num víctimas\"].unique()"
   ]
  },
  {
   "cell_type": "code",
   "execution_count": 291,
   "metadata": {},
   "outputs": [],
   "source": [
    "siniestros [\"Num víctimas\"] = siniestros [\"Num víctimas\"].fillna(0.0)\n",
    "siniestros [\"Num víctimas\"] = siniestros [\"Num víctimas\"].astype (\"Int64\")"
   ]
  },
  {
   "cell_type": "code",
   "execution_count": 292,
   "metadata": {},
   "outputs": [
    {
     "data": {
      "text/plain": [
       "<IntegerArray>\n",
       "[1, 2, 3]\n",
       "Length: 3, dtype: Int64"
      ]
     },
     "execution_count": 292,
     "metadata": {},
     "output_type": "execute_result"
    }
   ],
   "source": [
    "siniestros[\"Num víctimas\"].unique()"
   ]
  },
  {
   "cell_type": "code",
   "execution_count": 293,
   "metadata": {},
   "outputs": [
    {
     "data": {
      "text/plain": [
       "array([2016, 2017, 2018, 2019, 2020, 2021], dtype=int64)"
      ]
     },
     "execution_count": 293,
     "metadata": {},
     "output_type": "execute_result"
    }
   ],
   "source": [
    "siniestros[\"Año\"].unique()"
   ]
  },
  {
   "cell_type": "code",
   "execution_count": 294,
   "metadata": {},
   "outputs": [
    {
     "data": {
      "text/plain": [
       "<IntegerArray>\n",
       "[2016, 2017, 2018, 2019, 2020, 2021]\n",
       "Length: 6, dtype: Int64"
      ]
     },
     "execution_count": 294,
     "metadata": {},
     "output_type": "execute_result"
    }
   ],
   "source": [
    "siniestros [\"Año\"]= siniestros [\"Año\"].astype (\"Int64\")\n",
    "siniestros[\"Año\"].unique()"
   ]
  },
  {
   "cell_type": "code",
   "execution_count": 295,
   "metadata": {},
   "outputs": [
    {
     "data": {
      "text/plain": [
       "<IntegerArray>\n",
       "[1, 2, 3, 4, 5, 6, 7, 8, 9, 10, 11, 12]\n",
       "Length: 12, dtype: Int64"
      ]
     },
     "execution_count": 295,
     "metadata": {},
     "output_type": "execute_result"
    }
   ],
   "source": [
    "siniestros [\"Mes\"]= siniestros [\"Mes\"].astype (\"Int64\")\n",
    "siniestros[\"Mes\"].unique()"
   ]
  },
  {
   "cell_type": "code",
   "execution_count": 296,
   "metadata": {},
   "outputs": [
    {
     "data": {
      "text/plain": [
       "<IntegerArray>\n",
       "[ 1,  2,  3, 10, 21, 24, 29,  8, 14, 15, 17, 28,  4, 12, 13, 19, 23, 30, 31,\n",
       " 11, 20, 22, 25, 26, 16, 18, 27,  7,  9,  5,  6]\n",
       "Length: 31, dtype: Int64"
      ]
     },
     "execution_count": 296,
     "metadata": {},
     "output_type": "execute_result"
    }
   ],
   "source": [
    "siniestros [\"Día\"]= siniestros [\"Día\"].astype (\"Int64\")\n",
    "siniestros[\"Día\"].unique()"
   ]
  },
  {
   "cell_type": "code",
   "execution_count": 297,
   "metadata": {},
   "outputs": [
    {
     "data": {
      "text/html": [
       "<div>\n",
       "<style scoped>\n",
       "    .dataframe tbody tr th:only-of-type {\n",
       "        vertical-align: middle;\n",
       "    }\n",
       "\n",
       "    .dataframe tbody tr th {\n",
       "        vertical-align: top;\n",
       "    }\n",
       "\n",
       "    .dataframe thead th {\n",
       "        text-align: right;\n",
       "    }\n",
       "</style>\n",
       "<table border=\"1\" class=\"dataframe\">\n",
       "  <thead>\n",
       "    <tr style=\"text-align: right;\">\n",
       "      <th></th>\n",
       "      <th>Id</th>\n",
       "      <th>Rol</th>\n",
       "      <th>Sexo</th>\n",
       "      <th>Edad</th>\n",
       "      <th>Fecha fallecimiento</th>\n",
       "      <th>Rango etario</th>\n",
       "      <th>Num víctimas</th>\n",
       "      <th>Fecha</th>\n",
       "      <th>Año</th>\n",
       "      <th>Mes</th>\n",
       "      <th>...</th>\n",
       "      <th>Dirección normalizada</th>\n",
       "      <th>Comuna</th>\n",
       "      <th>Xy (caba)</th>\n",
       "      <th>Pos x</th>\n",
       "      <th>Pos y</th>\n",
       "      <th>Participantes</th>\n",
       "      <th>Victima</th>\n",
       "      <th>Acusado</th>\n",
       "      <th>Barrios</th>\n",
       "      <th>Día semana</th>\n",
       "    </tr>\n",
       "  </thead>\n",
       "  <tbody>\n",
       "    <tr>\n",
       "      <th>0</th>\n",
       "      <td>2016-0001</td>\n",
       "      <td>CONDUCTOR</td>\n",
       "      <td>MASCULINO</td>\n",
       "      <td>19</td>\n",
       "      <td>2016-01-01</td>\n",
       "      <td>Menos de 20</td>\n",
       "      <td>1</td>\n",
       "      <td>2016-01-01</td>\n",
       "      <td>2016</td>\n",
       "      <td>1</td>\n",
       "      <td>...</td>\n",
       "      <td>PIEDRA BUENA AV. y FERNANDEZ DE LA CRUZ, F., G...</td>\n",
       "      <td>Comuna 8</td>\n",
       "      <td>Point (98896.78238426 93532.43437792)</td>\n",
       "      <td>-58.475340</td>\n",
       "      <td>-34.687570</td>\n",
       "      <td>MOTO-AUTO</td>\n",
       "      <td>MOTO</td>\n",
       "      <td>AUTO</td>\n",
       "      <td>VILLA LUGANO - VILLA RIACHUELO - VILLA SOLDATI</td>\n",
       "      <td>Viernes 6</td>\n",
       "    </tr>\n",
       "    <tr>\n",
       "      <th>1</th>\n",
       "      <td>2016-0002</td>\n",
       "      <td>CONDUCTOR</td>\n",
       "      <td>MASCULINO</td>\n",
       "      <td>70</td>\n",
       "      <td>2016-01-02</td>\n",
       "      <td>Entre 61-80</td>\n",
       "      <td>1</td>\n",
       "      <td>2016-01-02</td>\n",
       "      <td>2016</td>\n",
       "      <td>1</td>\n",
       "      <td>...</td>\n",
       "      <td>PAZ, GRAL. AV. y DE LOS CORRALES AV.</td>\n",
       "      <td>Comuna 9</td>\n",
       "      <td>Point (95832.05571093 95505.41641999)</td>\n",
       "      <td>-58.508775</td>\n",
       "      <td>-34.669777</td>\n",
       "      <td>AUTO-PASAJEROS</td>\n",
       "      <td>AUTO</td>\n",
       "      <td>PASAJEROS</td>\n",
       "      <td>LINIERS - MATADEROS - PARQUE AVELLANEDA</td>\n",
       "      <td>Sabado 7</td>\n",
       "    </tr>\n",
       "    <tr>\n",
       "      <th>2</th>\n",
       "      <td>2016-0003</td>\n",
       "      <td>CONDUCTOR</td>\n",
       "      <td>MASCULINO</td>\n",
       "      <td>30</td>\n",
       "      <td>2016-01-03</td>\n",
       "      <td>Entre 21- 40</td>\n",
       "      <td>1</td>\n",
       "      <td>2016-01-03</td>\n",
       "      <td>2016</td>\n",
       "      <td>1</td>\n",
       "      <td>...</td>\n",
       "      <td>ENTRE RIOS AV. 2034</td>\n",
       "      <td>Comuna 1</td>\n",
       "      <td>Point (106684.29090040 99706.57687843)</td>\n",
       "      <td>-58.390403</td>\n",
       "      <td>-34.631894</td>\n",
       "      <td>MOTO-AUTO</td>\n",
       "      <td>MOTO</td>\n",
       "      <td>AUTO</td>\n",
       "      <td>CONSTITUCION - MONTSERRAT - PUERTO MADERO - RE...</td>\n",
       "      <td>Domingo 1</td>\n",
       "    </tr>\n",
       "  </tbody>\n",
       "</table>\n",
       "<p>3 rows × 27 columns</p>\n",
       "</div>"
      ],
      "text/plain": [
       "          Id        Rol       Sexo  Edad Fecha fallecimiento   Rango etario  \\\n",
       "0  2016-0001  CONDUCTOR  MASCULINO    19          2016-01-01    Menos de 20   \n",
       "1  2016-0002  CONDUCTOR  MASCULINO    70          2016-01-02    Entre 61-80   \n",
       "2  2016-0003  CONDUCTOR  MASCULINO    30          2016-01-03   Entre 21- 40   \n",
       "\n",
       "   Num víctimas      Fecha   Año  Mes  ...  \\\n",
       "0             1 2016-01-01  2016    1  ...   \n",
       "1             1 2016-01-02  2016    1  ...   \n",
       "2             1 2016-01-03  2016    1  ...   \n",
       "\n",
       "                               Dirección normalizada    Comuna  \\\n",
       "0  PIEDRA BUENA AV. y FERNANDEZ DE LA CRUZ, F., G...  Comuna 8   \n",
       "1               PAZ, GRAL. AV. y DE LOS CORRALES AV.  Comuna 9   \n",
       "2                                ENTRE RIOS AV. 2034  Comuna 1   \n",
       "\n",
       "                                Xy (caba)      Pos x      Pos y  \\\n",
       "0   Point (98896.78238426 93532.43437792) -58.475340 -34.687570   \n",
       "1   Point (95832.05571093 95505.41641999) -58.508775 -34.669777   \n",
       "2  Point (106684.29090040 99706.57687843) -58.390403 -34.631894   \n",
       "\n",
       "    Participantes Victima    Acusado  \\\n",
       "0       MOTO-AUTO    MOTO       AUTO   \n",
       "1  AUTO-PASAJEROS    AUTO  PASAJEROS   \n",
       "2       MOTO-AUTO    MOTO       AUTO   \n",
       "\n",
       "                                             Barrios Día semana  \n",
       "0     VILLA LUGANO - VILLA RIACHUELO - VILLA SOLDATI  Viernes 6  \n",
       "1            LINIERS - MATADEROS - PARQUE AVELLANEDA   Sabado 7  \n",
       "2  CONSTITUCION - MONTSERRAT - PUERTO MADERO - RE...  Domingo 1  \n",
       "\n",
       "[3 rows x 27 columns]"
      ]
     },
     "execution_count": 297,
     "metadata": {},
     "output_type": "execute_result"
    }
   ],
   "source": [
    "siniestros.head(3)"
   ]
  },
  {
   "cell_type": "markdown",
   "metadata": {},
   "source": [
    "Se realiza un resumen descriptivo de los datos de `siniestros` "
   ]
  },
  {
   "cell_type": "code",
   "execution_count": 298,
   "metadata": {},
   "outputs": [
    {
     "data": {
      "text/html": [
       "<div>\n",
       "<style scoped>\n",
       "    .dataframe tbody tr th:only-of-type {\n",
       "        vertical-align: middle;\n",
       "    }\n",
       "\n",
       "    .dataframe tbody tr th {\n",
       "        vertical-align: top;\n",
       "    }\n",
       "\n",
       "    .dataframe thead th {\n",
       "        text-align: right;\n",
       "    }\n",
       "</style>\n",
       "<table border=\"1\" class=\"dataframe\">\n",
       "  <thead>\n",
       "    <tr style=\"text-align: right;\">\n",
       "      <th></th>\n",
       "      <th>Edad</th>\n",
       "      <th>Num víctimas</th>\n",
       "      <th>Fecha</th>\n",
       "      <th>Año</th>\n",
       "      <th>Mes</th>\n",
       "      <th>Día</th>\n",
       "      <th>Hora</th>\n",
       "      <th>Pos x</th>\n",
       "      <th>Pos y</th>\n",
       "    </tr>\n",
       "  </thead>\n",
       "  <tbody>\n",
       "    <tr>\n",
       "      <th>count</th>\n",
       "      <td>717.0</td>\n",
       "      <td>717.0</td>\n",
       "      <td>717</td>\n",
       "      <td>717.0</td>\n",
       "      <td>717.0</td>\n",
       "      <td>717.0</td>\n",
       "      <td>716.0</td>\n",
       "      <td>704.000000</td>\n",
       "      <td>704.000000</td>\n",
       "    </tr>\n",
       "    <tr>\n",
       "      <th>mean</th>\n",
       "      <td>39.050209</td>\n",
       "      <td>1.061367</td>\n",
       "      <td>2018-09-09 01:24:21.087866112</td>\n",
       "      <td>2018.174338</td>\n",
       "      <td>6.688982</td>\n",
       "      <td>15.953975</td>\n",
       "      <td>11.554469</td>\n",
       "      <td>-58.441664</td>\n",
       "      <td>-34.619700</td>\n",
       "    </tr>\n",
       "    <tr>\n",
       "      <th>min</th>\n",
       "      <td>0.0</td>\n",
       "      <td>1.0</td>\n",
       "      <td>2016-01-01 00:00:00</td>\n",
       "      <td>2016.0</td>\n",
       "      <td>1.0</td>\n",
       "      <td>1.0</td>\n",
       "      <td>0.0</td>\n",
       "      <td>-58.529942</td>\n",
       "      <td>-34.705250</td>\n",
       "    </tr>\n",
       "    <tr>\n",
       "      <th>25%</th>\n",
       "      <td>24.0</td>\n",
       "      <td>1.0</td>\n",
       "      <td>2017-04-01 00:00:00</td>\n",
       "      <td>2017.0</td>\n",
       "      <td>4.0</td>\n",
       "      <td>9.0</td>\n",
       "      <td>6.0</td>\n",
       "      <td>-58.476556</td>\n",
       "      <td>-34.643918</td>\n",
       "    </tr>\n",
       "    <tr>\n",
       "      <th>50%</th>\n",
       "      <td>35.0</td>\n",
       "      <td>1.0</td>\n",
       "      <td>2018-07-07 00:00:00</td>\n",
       "      <td>2018.0</td>\n",
       "      <td>7.0</td>\n",
       "      <td>16.0</td>\n",
       "      <td>11.0</td>\n",
       "      <td>-58.444513</td>\n",
       "      <td>-34.622866</td>\n",
       "    </tr>\n",
       "    <tr>\n",
       "      <th>75%</th>\n",
       "      <td>55.0</td>\n",
       "      <td>1.0</td>\n",
       "      <td>2019-12-18 00:00:00</td>\n",
       "      <td>2019.0</td>\n",
       "      <td>10.0</td>\n",
       "      <td>23.0</td>\n",
       "      <td>17.0</td>\n",
       "      <td>-58.401841</td>\n",
       "      <td>-34.597013</td>\n",
       "    </tr>\n",
       "    <tr>\n",
       "      <th>max</th>\n",
       "      <td>95.0</td>\n",
       "      <td>3.0</td>\n",
       "      <td>2021-12-30 00:00:00</td>\n",
       "      <td>2021.0</td>\n",
       "      <td>12.0</td>\n",
       "      <td>31.0</td>\n",
       "      <td>23.0</td>\n",
       "      <td>-58.356082</td>\n",
       "      <td>-34.534654</td>\n",
       "    </tr>\n",
       "    <tr>\n",
       "      <th>std</th>\n",
       "      <td>22.010669</td>\n",
       "      <td>0.257024</td>\n",
       "      <td>NaN</td>\n",
       "      <td>1.672655</td>\n",
       "      <td>3.57514</td>\n",
       "      <td>8.674876</td>\n",
       "      <td>6.700055</td>\n",
       "      <td>0.046397</td>\n",
       "      <td>0.035292</td>\n",
       "    </tr>\n",
       "  </tbody>\n",
       "</table>\n",
       "</div>"
      ],
      "text/plain": [
       "            Edad  Num víctimas                          Fecha          Año  \\\n",
       "count      717.0         717.0                            717        717.0   \n",
       "mean   39.050209      1.061367  2018-09-09 01:24:21.087866112  2018.174338   \n",
       "min          0.0           1.0            2016-01-01 00:00:00       2016.0   \n",
       "25%         24.0           1.0            2017-04-01 00:00:00       2017.0   \n",
       "50%         35.0           1.0            2018-07-07 00:00:00       2018.0   \n",
       "75%         55.0           1.0            2019-12-18 00:00:00       2019.0   \n",
       "max         95.0           3.0            2021-12-30 00:00:00       2021.0   \n",
       "std    22.010669      0.257024                            NaN     1.672655   \n",
       "\n",
       "            Mes        Día       Hora       Pos x       Pos y  \n",
       "count     717.0      717.0      716.0  704.000000  704.000000  \n",
       "mean   6.688982  15.953975  11.554469  -58.441664  -34.619700  \n",
       "min         1.0        1.0        0.0  -58.529942  -34.705250  \n",
       "25%         4.0        9.0        6.0  -58.476556  -34.643918  \n",
       "50%         7.0       16.0       11.0  -58.444513  -34.622866  \n",
       "75%        10.0       23.0       17.0  -58.401841  -34.597013  \n",
       "max        12.0       31.0       23.0  -58.356082  -34.534654  \n",
       "std     3.57514   8.674876   6.700055    0.046397    0.035292  "
      ]
     },
     "execution_count": 298,
     "metadata": {},
     "output_type": "execute_result"
    }
   ],
   "source": [
    "siniestros.describe()"
   ]
  },
  {
   "cell_type": "code",
   "execution_count": 299,
   "metadata": {},
   "outputs": [
    {
     "data": {
      "text/plain": [
       "Index(['Id', 'Rol', 'Sexo', 'Edad', 'Fecha fallecimiento', 'Rango etario',\n",
       "       'Num víctimas', 'Fecha', 'Año', 'Mes', 'Día', 'Hora completa', 'Hora',\n",
       "       'Lugar del hecho', 'Tipo de calle', 'Calle', 'Cruce',\n",
       "       'Dirección normalizada', 'Comuna', 'Xy (caba)', 'Pos x', 'Pos y',\n",
       "       'Participantes', 'Victima', 'Acusado', 'Barrios', 'Día semana'],\n",
       "      dtype='object')"
      ]
     },
     "execution_count": 299,
     "metadata": {},
     "output_type": "execute_result"
    }
   ],
   "source": [
    "siniestros.columns"
   ]
  },
  {
   "cell_type": "markdown",
   "metadata": {},
   "source": [
    "Antes de realizar en EDA propiamiente dicho se ordenan las columnas"
   ]
  },
  {
   "cell_type": "code",
   "execution_count": 300,
   "metadata": {},
   "outputs": [
    {
     "data": {
      "text/plain": [
       "Index(['Id', 'Fecha', 'Año', 'Mes', 'Día', 'Día semana', 'Hora completa',\n",
       "       'Hora', 'Num víctimas', 'Participantes', 'Rol', 'Acusado', 'Victima',\n",
       "       'Sexo', 'Edad', 'Rango etario', 'Fecha fallecimiento',\n",
       "       'Lugar del hecho', 'Tipo de calle', 'Calle', 'Cruce',\n",
       "       'Dirección normalizada', 'Comuna', 'Xy (caba)', 'Pos x', 'Pos y'],\n",
       "      dtype='object')"
      ]
     },
     "execution_count": 300,
     "metadata": {},
     "output_type": "execute_result"
    }
   ],
   "source": [
    "#Creo una lista con el orden \n",
    "nuevo_orden=[\"Id\", \"Fecha\", \"Año\", \"Mes\", \"Día\",\"Día semana\", \"Hora completa\", \"Hora\", \"Num víctimas\", \"Participantes\", \"Rol\", \"Acusado\", \"Victima\", \"Sexo\", \"Edad\", \"Rango etario\", \"Fecha fallecimiento\", \"Lugar del hecho\", \"Tipo de calle\", \"Calle\", \"Cruce\", \"Dirección normalizada\", \"Comuna\", \"Xy (caba)\", \"Pos x\", \"Pos y\"]\n",
    "\n",
    "#Reorganizo el dataframe untilizando la lista y asignandola nuevamente aldataframe siniestros\n",
    "siniestros_limpio = siniestros[nuevo_orden]\n",
    "siniestros_limpio.columns\n",
    "\n"
   ]
  },
  {
   "cell_type": "code",
   "execution_count": 301,
   "metadata": {},
   "outputs": [
    {
     "data": {
      "text/html": [
       "<div>\n",
       "<style scoped>\n",
       "    .dataframe tbody tr th:only-of-type {\n",
       "        vertical-align: middle;\n",
       "    }\n",
       "\n",
       "    .dataframe tbody tr th {\n",
       "        vertical-align: top;\n",
       "    }\n",
       "\n",
       "    .dataframe thead th {\n",
       "        text-align: right;\n",
       "    }\n",
       "</style>\n",
       "<table border=\"1\" class=\"dataframe\">\n",
       "  <thead>\n",
       "    <tr style=\"text-align: right;\">\n",
       "      <th></th>\n",
       "      <th>Id</th>\n",
       "      <th>Fecha</th>\n",
       "      <th>Año</th>\n",
       "      <th>Mes</th>\n",
       "      <th>Día</th>\n",
       "      <th>Día semana</th>\n",
       "      <th>Hora completa</th>\n",
       "      <th>Hora</th>\n",
       "      <th>Num víctimas</th>\n",
       "      <th>Participantes</th>\n",
       "      <th>...</th>\n",
       "      <th>Fecha fallecimiento</th>\n",
       "      <th>Lugar del hecho</th>\n",
       "      <th>Tipo de calle</th>\n",
       "      <th>Calle</th>\n",
       "      <th>Cruce</th>\n",
       "      <th>Dirección normalizada</th>\n",
       "      <th>Comuna</th>\n",
       "      <th>Xy (caba)</th>\n",
       "      <th>Pos x</th>\n",
       "      <th>Pos y</th>\n",
       "    </tr>\n",
       "  </thead>\n",
       "  <tbody>\n",
       "    <tr>\n",
       "      <th>0</th>\n",
       "      <td>2016-0001</td>\n",
       "      <td>2016-01-01</td>\n",
       "      <td>2016</td>\n",
       "      <td>1</td>\n",
       "      <td>1</td>\n",
       "      <td>Viernes 6</td>\n",
       "      <td>04:00:00</td>\n",
       "      <td>4</td>\n",
       "      <td>1</td>\n",
       "      <td>MOTO-AUTO</td>\n",
       "      <td>...</td>\n",
       "      <td>2016-01-01</td>\n",
       "      <td>AV PIEDRA BUENA Y AV FERNANDEZ DE LA CRUZ</td>\n",
       "      <td>AVENIDA</td>\n",
       "      <td>PIEDRA BUENA AV.</td>\n",
       "      <td>FERNANDEZ DE LA CRUZ, F., GRAL. AV.</td>\n",
       "      <td>PIEDRA BUENA AV. y FERNANDEZ DE LA CRUZ, F., G...</td>\n",
       "      <td>Comuna 8</td>\n",
       "      <td>Point (98896.78238426 93532.43437792)</td>\n",
       "      <td>-58.475340</td>\n",
       "      <td>-34.687570</td>\n",
       "    </tr>\n",
       "    <tr>\n",
       "      <th>1</th>\n",
       "      <td>2016-0002</td>\n",
       "      <td>2016-01-02</td>\n",
       "      <td>2016</td>\n",
       "      <td>1</td>\n",
       "      <td>2</td>\n",
       "      <td>Sabado 7</td>\n",
       "      <td>01:15:00</td>\n",
       "      <td>1</td>\n",
       "      <td>1</td>\n",
       "      <td>AUTO-PASAJEROS</td>\n",
       "      <td>...</td>\n",
       "      <td>2016-01-02</td>\n",
       "      <td>AV GRAL PAZ  Y AV DE LOS CORRALES</td>\n",
       "      <td>GRAL PAZ</td>\n",
       "      <td>PAZ, GRAL. AV.</td>\n",
       "      <td>DE LOS CORRALES AV.</td>\n",
       "      <td>PAZ, GRAL. AV. y DE LOS CORRALES AV.</td>\n",
       "      <td>Comuna 9</td>\n",
       "      <td>Point (95832.05571093 95505.41641999)</td>\n",
       "      <td>-58.508775</td>\n",
       "      <td>-34.669777</td>\n",
       "    </tr>\n",
       "    <tr>\n",
       "      <th>2</th>\n",
       "      <td>2016-0003</td>\n",
       "      <td>2016-01-03</td>\n",
       "      <td>2016</td>\n",
       "      <td>1</td>\n",
       "      <td>3</td>\n",
       "      <td>Domingo 1</td>\n",
       "      <td>07:00:00</td>\n",
       "      <td>7</td>\n",
       "      <td>1</td>\n",
       "      <td>MOTO-AUTO</td>\n",
       "      <td>...</td>\n",
       "      <td>2016-01-03</td>\n",
       "      <td>AV ENTRE RIOS 2034</td>\n",
       "      <td>AVENIDA</td>\n",
       "      <td>ENTRE RIOS AV.</td>\n",
       "      <td>NaN</td>\n",
       "      <td>ENTRE RIOS AV. 2034</td>\n",
       "      <td>Comuna 1</td>\n",
       "      <td>Point (106684.29090040 99706.57687843)</td>\n",
       "      <td>-58.390403</td>\n",
       "      <td>-34.631894</td>\n",
       "    </tr>\n",
       "  </tbody>\n",
       "</table>\n",
       "<p>3 rows × 26 columns</p>\n",
       "</div>"
      ],
      "text/plain": [
       "          Id      Fecha   Año  Mes  Día Día semana Hora completa  Hora  \\\n",
       "0  2016-0001 2016-01-01  2016    1    1  Viernes 6      04:00:00     4   \n",
       "1  2016-0002 2016-01-02  2016    1    2   Sabado 7      01:15:00     1   \n",
       "2  2016-0003 2016-01-03  2016    1    3  Domingo 1      07:00:00     7   \n",
       "\n",
       "   Num víctimas   Participantes  ... Fecha fallecimiento  \\\n",
       "0             1       MOTO-AUTO  ...          2016-01-01   \n",
       "1             1  AUTO-PASAJEROS  ...          2016-01-02   \n",
       "2             1       MOTO-AUTO  ...          2016-01-03   \n",
       "\n",
       "                             Lugar del hecho Tipo de calle             Calle  \\\n",
       "0  AV PIEDRA BUENA Y AV FERNANDEZ DE LA CRUZ       AVENIDA  PIEDRA BUENA AV.   \n",
       "1          AV GRAL PAZ  Y AV DE LOS CORRALES      GRAL PAZ    PAZ, GRAL. AV.   \n",
       "2                         AV ENTRE RIOS 2034       AVENIDA    ENTRE RIOS AV.   \n",
       "\n",
       "                                 Cruce  \\\n",
       "0  FERNANDEZ DE LA CRUZ, F., GRAL. AV.   \n",
       "1                  DE LOS CORRALES AV.   \n",
       "2                                  NaN   \n",
       "\n",
       "                               Dirección normalizada    Comuna  \\\n",
       "0  PIEDRA BUENA AV. y FERNANDEZ DE LA CRUZ, F., G...  Comuna 8   \n",
       "1               PAZ, GRAL. AV. y DE LOS CORRALES AV.  Comuna 9   \n",
       "2                                ENTRE RIOS AV. 2034  Comuna 1   \n",
       "\n",
       "                                Xy (caba)      Pos x      Pos y  \n",
       "0   Point (98896.78238426 93532.43437792) -58.475340 -34.687570  \n",
       "1   Point (95832.05571093 95505.41641999) -58.508775 -34.669777  \n",
       "2  Point (106684.29090040 99706.57687843) -58.390403 -34.631894  \n",
       "\n",
       "[3 rows x 26 columns]"
      ]
     },
     "execution_count": 301,
     "metadata": {},
     "output_type": "execute_result"
    }
   ],
   "source": [
    "siniestros_limpio.head(3)"
   ]
  },
  {
   "cell_type": "code",
   "execution_count": 302,
   "metadata": {},
   "outputs": [
    {
     "name": "stdout",
     "output_type": "stream",
     "text": [
      "<class 'pandas.core.frame.DataFrame'>\n",
      "RangeIndex: 717 entries, 0 to 716\n",
      "Data columns (total 26 columns):\n",
      " #   Column                 Non-Null Count  Dtype         \n",
      "---  ------                 --------------  -----         \n",
      " 0   Id                     717 non-null    object        \n",
      " 1   Fecha                  717 non-null    datetime64[ns]\n",
      " 2   Año                    717 non-null    Int64         \n",
      " 3   Mes                    717 non-null    Int64         \n",
      " 4   Día                    717 non-null    Int64         \n",
      " 5   Día semana             717 non-null    object        \n",
      " 6   Hora completa          717 non-null    object        \n",
      " 7   Hora                   716 non-null    Int64         \n",
      " 8   Num víctimas           717 non-null    Int64         \n",
      " 9   Participantes          717 non-null    object        \n",
      " 10  Rol                    717 non-null    object        \n",
      " 11  Acusado                717 non-null    object        \n",
      " 12  Victima                717 non-null    object        \n",
      " 13  Sexo                   717 non-null    object        \n",
      " 14  Edad                   717 non-null    Int64         \n",
      " 15  Rango etario           717 non-null    category      \n",
      " 16  Fecha fallecimiento    717 non-null    object        \n",
      " 17  Lugar del hecho        717 non-null    object        \n",
      " 18  Tipo de calle          717 non-null    object        \n",
      " 19  Calle                  716 non-null    object        \n",
      " 20  Cruce                  540 non-null    object        \n",
      " 21  Dirección normalizada  708 non-null    object        \n",
      " 22  Comuna                 717 non-null    object        \n",
      " 23  Xy (caba)              717 non-null    object        \n",
      " 24  Pos x                  704 non-null    float64       \n",
      " 25  Pos y                  704 non-null    float64       \n",
      "dtypes: Int64(6), category(1), datetime64[ns](1), float64(2), object(16)\n",
      "memory usage: 145.3+ KB\n"
     ]
    }
   ],
   "source": [
    "siniestros_limpio.info()"
   ]
  },
  {
   "cell_type": "code",
   "execution_count": null,
   "metadata": {},
   "outputs": [],
   "source": [
    "siniestros_limpio[\"Fecha\"]=siniestros_limpio[\"Fecha\"].dt.date"
   ]
  },
  {
   "cell_type": "code",
   "execution_count": 304,
   "metadata": {},
   "outputs": [
    {
     "name": "stdout",
     "output_type": "stream",
     "text": [
      "<class 'pandas.core.frame.DataFrame'>\n",
      "RangeIndex: 717 entries, 0 to 716\n",
      "Data columns (total 26 columns):\n",
      " #   Column                 Non-Null Count  Dtype   \n",
      "---  ------                 --------------  -----   \n",
      " 0   Id                     717 non-null    object  \n",
      " 1   Fecha                  717 non-null    object  \n",
      " 2   Año                    717 non-null    Int64   \n",
      " 3   Mes                    717 non-null    Int64   \n",
      " 4   Día                    717 non-null    Int64   \n",
      " 5   Día semana             717 non-null    object  \n",
      " 6   Hora completa          717 non-null    object  \n",
      " 7   Hora                   716 non-null    Int64   \n",
      " 8   Num víctimas           717 non-null    Int64   \n",
      " 9   Participantes          717 non-null    object  \n",
      " 10  Rol                    717 non-null    object  \n",
      " 11  Acusado                717 non-null    object  \n",
      " 12  Victima                717 non-null    object  \n",
      " 13  Sexo                   717 non-null    object  \n",
      " 14  Edad                   717 non-null    Int64   \n",
      " 15  Rango etario           717 non-null    category\n",
      " 16  Fecha fallecimiento    717 non-null    object  \n",
      " 17  Lugar del hecho        717 non-null    object  \n",
      " 18  Tipo de calle          717 non-null    object  \n",
      " 19  Calle                  716 non-null    object  \n",
      " 20  Cruce                  540 non-null    object  \n",
      " 21  Dirección normalizada  708 non-null    object  \n",
      " 22  Comuna                 717 non-null    object  \n",
      " 23  Xy (caba)              717 non-null    object  \n",
      " 24  Pos x                  704 non-null    float64 \n",
      " 25  Pos y                  704 non-null    float64 \n",
      "dtypes: Int64(6), category(1), float64(2), object(17)\n",
      "memory usage: 145.3+ KB\n"
     ]
    }
   ],
   "source": [
    "siniestros_limpio.info()"
   ]
  },
  {
   "cell_type": "markdown",
   "metadata": {},
   "source": [
    "Se guarda el archivo como csv para optimizar su manipulación"
   ]
  },
  {
   "cell_type": "code",
   "execution_count": 305,
   "metadata": {},
   "outputs": [],
   "source": [
    "siniestros_limpio.to_csv(\"Datasets/clean/siniestos_limpio_2.csv\", index=False)"
   ]
  },
  {
   "cell_type": "code",
   "execution_count": 306,
   "metadata": {},
   "outputs": [
    {
     "data": {
      "text/plain": [
       "Index(['Id', 'Fecha', 'Año', 'Mes', 'Día', 'Día semana', 'Hora completa',\n",
       "       'Hora', 'Num víctimas', 'Participantes', 'Rol', 'Acusado', 'Victima',\n",
       "       'Sexo', 'Edad', 'Rango etario', 'Fecha fallecimiento',\n",
       "       'Lugar del hecho', 'Tipo de calle', 'Calle', 'Cruce',\n",
       "       'Dirección normalizada', 'Comuna', 'Xy (caba)', 'Pos x', 'Pos y'],\n",
       "      dtype='object')"
      ]
     },
     "execution_count": 306,
     "metadata": {},
     "output_type": "execute_result"
    }
   ],
   "source": [
    "siniestros_limpio.columns"
   ]
  },
  {
   "cell_type": "code",
   "execution_count": 307,
   "metadata": {},
   "outputs": [
    {
     "name": "stdout",
     "output_type": "stream",
     "text": [
      "<class 'pandas.core.frame.DataFrame'>\n",
      "RangeIndex: 717 entries, 0 to 716\n",
      "Data columns (total 26 columns):\n",
      " #   Column                 Non-Null Count  Dtype   \n",
      "---  ------                 --------------  -----   \n",
      " 0   Id                     717 non-null    object  \n",
      " 1   Fecha                  717 non-null    object  \n",
      " 2   Año                    717 non-null    Int64   \n",
      " 3   Mes                    717 non-null    Int64   \n",
      " 4   Día                    717 non-null    Int64   \n",
      " 5   Día semana             717 non-null    object  \n",
      " 6   Hora completa          717 non-null    object  \n",
      " 7   Hora                   716 non-null    Int64   \n",
      " 8   Num víctimas           717 non-null    Int64   \n",
      " 9   Participantes          717 non-null    object  \n",
      " 10  Rol                    717 non-null    object  \n",
      " 11  Acusado                717 non-null    object  \n",
      " 12  Victima                717 non-null    object  \n",
      " 13  Sexo                   717 non-null    object  \n",
      " 14  Edad                   717 non-null    Int64   \n",
      " 15  Rango etario           717 non-null    category\n",
      " 16  Fecha fallecimiento    717 non-null    object  \n",
      " 17  Lugar del hecho        717 non-null    object  \n",
      " 18  Tipo de calle          717 non-null    object  \n",
      " 19  Calle                  716 non-null    object  \n",
      " 20  Cruce                  540 non-null    object  \n",
      " 21  Dirección normalizada  708 non-null    object  \n",
      " 22  Comuna                 717 non-null    object  \n",
      " 23  Xy (caba)              717 non-null    object  \n",
      " 24  Pos x                  704 non-null    float64 \n",
      " 25  Pos y                  704 non-null    float64 \n",
      "dtypes: Int64(6), category(1), float64(2), object(17)\n",
      "memory usage: 145.3+ KB\n"
     ]
    }
   ],
   "source": [
    "siniestros_limpio.info()"
   ]
  }
 ],
 "metadata": {
  "kernelspec": {
   "display_name": "Python 3",
   "language": "python",
   "name": "python3"
  },
  "language_info": {
   "codemirror_mode": {
    "name": "ipython",
    "version": 3
   },
   "file_extension": ".py",
   "mimetype": "text/x-python",
   "name": "python",
   "nbconvert_exporter": "python",
   "pygments_lexer": "ipython3",
   "version": "3.12.0"
  }
 },
 "nbformat": 4,
 "nbformat_minor": 2
}
